{
 "cells": [
  {
   "cell_type": "markdown",
   "metadata": {},
   "source": [
    "Non ML model testing the percentage of capital letters in a news post title."
   ]
  },
  {
   "cell_type": "markdown",
   "metadata": {},
   "source": [
    "# Imports and Constants"
   ]
  },
  {
   "cell_type": "code",
   "execution_count": 1,
   "metadata": {
    "ExecuteTime": {
     "end_time": "2020-10-07T18:15:51.570145Z",
     "start_time": "2020-10-07T18:15:50.308560Z"
    }
   },
   "outputs": [],
   "source": [
    "import pandas as pd\n",
    "import numpy as np\n",
    "import ast\n",
    "from sklearn.model_selection import train_test_split\n",
    "from sklearn.preprocessing import LabelEncoder\n",
    "from sklearn.metrics import classification_report, confusion_matrix\n",
    "import matplotlib.pyplot as plt\n",
    "%matplotlib inline\n",
    "from sklearn.metrics import ConfusionMatrixDisplay"
   ]
  },
  {
   "cell_type": "code",
   "execution_count": 2,
   "metadata": {
    "ExecuteTime": {
     "end_time": "2020-10-07T18:15:51.576579Z",
     "start_time": "2020-10-07T18:15:51.572600Z"
    }
   },
   "outputs": [],
   "source": [
    "DATA_PATH = '../data/'\n",
    "PRE_PROCESSED_DATA_FILE_NAME = 'news_dataset_pre_processed.csv'\n",
    "RANDOM_STATE = 42"
   ]
  },
  {
   "cell_type": "markdown",
   "metadata": {},
   "source": [
    "# Load Data"
   ]
  },
  {
   "cell_type": "code",
   "execution_count": 3,
   "metadata": {
    "ExecuteTime": {
     "end_time": "2020-10-07T18:15:56.839695Z",
     "start_time": "2020-10-07T18:15:51.579399Z"
    }
   },
   "outputs": [],
   "source": [
    "df = pd.read_csv(DATA_PATH + PRE_PROCESSED_DATA_FILE_NAME, low_memory=False)"
   ]
  },
  {
   "cell_type": "code",
   "execution_count": 4,
   "metadata": {
    "ExecuteTime": {
     "end_time": "2020-10-07T18:15:56.880888Z",
     "start_time": "2020-10-07T18:15:56.842264Z"
    }
   },
   "outputs": [
    {
     "data": {
      "text/plain": "                                               title  \\\n0   Donald Trump Sends Out Embarrassing New Year’...   \n1   Drunk Bragging Trump Staffer Started Russian ...   \n2   Sheriff David Clarke Becomes An Internet Joke...   \n3   Trump Is So Obsessed He Even Has Obama’s Name...   \n4   Pope Francis Just Called Out Donald Trump Dur...   \n\n                                                text subject        date  \\\n0  Donald Trump just couldn t wish all Americans ...    News  2017-12-31   \n1  House Intelligence Committee Chairman Devin Nu...    News  2017-12-31   \n2  On Friday, it was revealed that former Milwauk...    News  2017-12-30   \n3  On Christmas day, Donald Trump announced that ...    News  2017-12-29   \n4  Pope Francis used his annual Christmas Day mes...    News  2017-12-25   \n\n  label  title_len  text_len  caps_in_title  norm_caps_in_title  caps_in_text  \\\n0  fake         79      2893             11            0.139241           138   \n1  fake         69      1898              8            0.115942            88   \n2  fake         90      3597             15            0.166667           308   \n3  fake         78      2774             19            0.243590           123   \n4  fake         70      2346             11            0.157143            63   \n\n   norm_caps_in_text                                        text_tokens  \\\n0           0.047701  ['Donald', 'Trump', 'just', 'couldn', 't', 'wi...   \n1           0.046365  ['House', 'Intelligence', 'Committee', 'Chairm...   \n2           0.085627  ['On', 'Friday', 'it', 'was', 'revealed', 'tha...   \n3           0.044340  ['On', 'Christmas', 'day', 'Donald', 'Trump', ...   \n4           0.026854  ['Pope', 'Francis', 'used', 'his', 'annual', '...   \n\n                                           text_urls  \\\n0                     ['pic.twitter.com/4FPAe2KypA']   \n1                                                 []   \n2  ['pic.twitter.com/XtZW5PdU2b', 'pic.twitter.co...   \n3  ['https://t.co/Fg7VacxRtJ', 'pic.twitter.com/5...   \n4                                                 []   \n\n                                          clean_text title_urls  \\\n0  donald trump just couldn t wish all americans ...         []   \n1  house intelligence committee chairman devin nu...         []   \n2  on friday, it was revealed that former milwauk...         []   \n3  on christmas day, donald trump announced that ...         []   \n4  pope francis used his annual christmas day mes...         []   \n\n                                     twitter_handles  \\\n0  ['@realDonaldTrump', '@TalbertSwan', '@calvins...   \n1                                                 []   \n2  ['@SheriffClarke', '@SheriffClarke', '@KeithLe...   \n3  ['@pbump', '@_cingraham', '@_cingraham', '@_ci...   \n4                                                 []   \n\n                                         clean_title  \\\n0  donald trump sends out embarrassing new year’s...   \n1  drunk bragging trump staffer started russian c...   \n2  sheriff david clarke becomes an internet joke ...   \n3  trump is so obsessed he even has obama’s name ...   \n4  pope francis just called out donald trump duri...   \n\n                                   clean_text_tokens  \\\n0  ['donald', 'trump', 'just', 'couldn', 'wish', ...   \n1  ['house', 'intelligence', 'committee', 'chairm...   \n2  ['on', 'it', 'was', 'revealed', 'that', 'forme...   \n3  ['on', 'christmas', 'day', 'donald', 'trump', ...   \n4  ['pope', 'francis', 'used', 'his', 'annual', '...   \n\n                                  clean_title_tokens  \n0  ['donald', 'trump', 'sends', 'out', 'embarrass...  \n1  ['drunk', 'bragging', 'trump', 'staffer', 'sta...  \n2  ['sheriff', 'david', 'clarke', 'becomes', 'an'...  \n3  ['trump', 'is', 'so', 'obsessed', 'he', 'even'...  \n4  ['pope', 'francis', 'just', 'called', 'out', '...  ",
      "text/html": "<div>\n<style scoped>\n    .dataframe tbody tr th:only-of-type {\n        vertical-align: middle;\n    }\n\n    .dataframe tbody tr th {\n        vertical-align: top;\n    }\n\n    .dataframe thead th {\n        text-align: right;\n    }\n</style>\n<table border=\"1\" class=\"dataframe\">\n  <thead>\n    <tr style=\"text-align: right;\">\n      <th></th>\n      <th>title</th>\n      <th>text</th>\n      <th>subject</th>\n      <th>date</th>\n      <th>label</th>\n      <th>title_len</th>\n      <th>text_len</th>\n      <th>caps_in_title</th>\n      <th>norm_caps_in_title</th>\n      <th>caps_in_text</th>\n      <th>norm_caps_in_text</th>\n      <th>text_tokens</th>\n      <th>text_urls</th>\n      <th>clean_text</th>\n      <th>title_urls</th>\n      <th>twitter_handles</th>\n      <th>clean_title</th>\n      <th>clean_text_tokens</th>\n      <th>clean_title_tokens</th>\n    </tr>\n  </thead>\n  <tbody>\n    <tr>\n      <th>0</th>\n      <td>Donald Trump Sends Out Embarrassing New Year’...</td>\n      <td>Donald Trump just couldn t wish all Americans ...</td>\n      <td>News</td>\n      <td>2017-12-31</td>\n      <td>fake</td>\n      <td>79</td>\n      <td>2893</td>\n      <td>11</td>\n      <td>0.139241</td>\n      <td>138</td>\n      <td>0.047701</td>\n      <td>['Donald', 'Trump', 'just', 'couldn', 't', 'wi...</td>\n      <td>['pic.twitter.com/4FPAe2KypA']</td>\n      <td>donald trump just couldn t wish all americans ...</td>\n      <td>[]</td>\n      <td>['@realDonaldTrump', '@TalbertSwan', '@calvins...</td>\n      <td>donald trump sends out embarrassing new year’s...</td>\n      <td>['donald', 'trump', 'just', 'couldn', 'wish', ...</td>\n      <td>['donald', 'trump', 'sends', 'out', 'embarrass...</td>\n    </tr>\n    <tr>\n      <th>1</th>\n      <td>Drunk Bragging Trump Staffer Started Russian ...</td>\n      <td>House Intelligence Committee Chairman Devin Nu...</td>\n      <td>News</td>\n      <td>2017-12-31</td>\n      <td>fake</td>\n      <td>69</td>\n      <td>1898</td>\n      <td>8</td>\n      <td>0.115942</td>\n      <td>88</td>\n      <td>0.046365</td>\n      <td>['House', 'Intelligence', 'Committee', 'Chairm...</td>\n      <td>[]</td>\n      <td>house intelligence committee chairman devin nu...</td>\n      <td>[]</td>\n      <td>[]</td>\n      <td>drunk bragging trump staffer started russian c...</td>\n      <td>['house', 'intelligence', 'committee', 'chairm...</td>\n      <td>['drunk', 'bragging', 'trump', 'staffer', 'sta...</td>\n    </tr>\n    <tr>\n      <th>2</th>\n      <td>Sheriff David Clarke Becomes An Internet Joke...</td>\n      <td>On Friday, it was revealed that former Milwauk...</td>\n      <td>News</td>\n      <td>2017-12-30</td>\n      <td>fake</td>\n      <td>90</td>\n      <td>3597</td>\n      <td>15</td>\n      <td>0.166667</td>\n      <td>308</td>\n      <td>0.085627</td>\n      <td>['On', 'Friday', 'it', 'was', 'revealed', 'tha...</td>\n      <td>['pic.twitter.com/XtZW5PdU2b', 'pic.twitter.co...</td>\n      <td>on friday, it was revealed that former milwauk...</td>\n      <td>[]</td>\n      <td>['@SheriffClarke', '@SheriffClarke', '@KeithLe...</td>\n      <td>sheriff david clarke becomes an internet joke ...</td>\n      <td>['on', 'it', 'was', 'revealed', 'that', 'forme...</td>\n      <td>['sheriff', 'david', 'clarke', 'becomes', 'an'...</td>\n    </tr>\n    <tr>\n      <th>3</th>\n      <td>Trump Is So Obsessed He Even Has Obama’s Name...</td>\n      <td>On Christmas day, Donald Trump announced that ...</td>\n      <td>News</td>\n      <td>2017-12-29</td>\n      <td>fake</td>\n      <td>78</td>\n      <td>2774</td>\n      <td>19</td>\n      <td>0.243590</td>\n      <td>123</td>\n      <td>0.044340</td>\n      <td>['On', 'Christmas', 'day', 'Donald', 'Trump', ...</td>\n      <td>['https://t.co/Fg7VacxRtJ', 'pic.twitter.com/5...</td>\n      <td>on christmas day, donald trump announced that ...</td>\n      <td>[]</td>\n      <td>['@pbump', '@_cingraham', '@_cingraham', '@_ci...</td>\n      <td>trump is so obsessed he even has obama’s name ...</td>\n      <td>['on', 'christmas', 'day', 'donald', 'trump', ...</td>\n      <td>['trump', 'is', 'so', 'obsessed', 'he', 'even'...</td>\n    </tr>\n    <tr>\n      <th>4</th>\n      <td>Pope Francis Just Called Out Donald Trump Dur...</td>\n      <td>Pope Francis used his annual Christmas Day mes...</td>\n      <td>News</td>\n      <td>2017-12-25</td>\n      <td>fake</td>\n      <td>70</td>\n      <td>2346</td>\n      <td>11</td>\n      <td>0.157143</td>\n      <td>63</td>\n      <td>0.026854</td>\n      <td>['Pope', 'Francis', 'used', 'his', 'annual', '...</td>\n      <td>[]</td>\n      <td>pope francis used his annual christmas day mes...</td>\n      <td>[]</td>\n      <td>[]</td>\n      <td>pope francis just called out donald trump duri...</td>\n      <td>['pope', 'francis', 'used', 'his', 'annual', '...</td>\n      <td>['pope', 'francis', 'just', 'called', 'out', '...</td>\n    </tr>\n  </tbody>\n</table>\n</div>"
     },
     "execution_count": 4,
     "metadata": {},
     "output_type": "execute_result"
    }
   ],
   "source": [
    "df.head()"
   ]
  },
  {
   "cell_type": "markdown",
   "metadata": {},
   "source": [
    "## convert list of strings represented as a string to a list of strings"
   ]
  },
  {
   "cell_type": "code",
   "execution_count": 5,
   "metadata": {
    "ExecuteTime": {
     "end_time": "2020-10-07T18:16:39.959470Z",
     "start_time": "2020-10-07T18:15:56.883145Z"
    }
   },
   "outputs": [],
   "source": [
    "df.clean_text_tokens = df.clean_text_tokens.map(ast.literal_eval)\n",
    "df.clean_title_tokens = df.clean_title_tokens.map(ast.literal_eval)"
   ]
  },
  {
   "cell_type": "markdown",
   "metadata": {},
   "source": [
    "# Split Data"
   ]
  },
  {
   "cell_type": "code",
   "execution_count": 6,
   "metadata": {
    "ExecuteTime": {
     "end_time": "2020-10-07T18:16:40.022172Z",
     "start_time": "2020-10-07T18:16:39.961611Z"
    }
   },
   "outputs": [],
   "source": [
    "X_train, X_test, y_train, y_test = train_test_split(df[['title', 'norm_caps_in_title']], \n",
    "                                                    df['label'],\n",
    "                                                   test_size = 0.2,\n",
    "                                                   random_state = RANDOM_STATE,\n",
    "                                                   stratify = df['label'])"
   ]
  },
  {
   "cell_type": "code",
   "execution_count": 7,
   "metadata": {
    "ExecuteTime": {
     "end_time": "2020-10-07T18:16:40.029155Z",
     "start_time": "2020-10-07T18:16:40.024312Z"
    }
   },
   "outputs": [
    {
     "data": {
      "text/plain": "(30910, 2)"
     },
     "execution_count": 7,
     "metadata": {},
     "output_type": "execute_result"
    }
   ],
   "source": [
    "X_train.shape"
   ]
  },
  {
   "cell_type": "code",
   "execution_count": 8,
   "metadata": {
    "ExecuteTime": {
     "end_time": "2020-10-07T18:16:40.039109Z",
     "start_time": "2020-10-07T18:16:40.033533Z"
    }
   },
   "outputs": [
    {
     "data": {
      "text/plain": "(7728, 2)"
     },
     "execution_count": 8,
     "metadata": {},
     "output_type": "execute_result"
    }
   ],
   "source": [
    "X_test.shape"
   ]
  },
  {
   "cell_type": "markdown",
   "metadata": {},
   "source": [
    "# Encode Labels"
   ]
  },
  {
   "cell_type": "code",
   "execution_count": 9,
   "metadata": {
    "ExecuteTime": {
     "end_time": "2020-10-07T18:16:40.045644Z",
     "start_time": "2020-10-07T18:16:40.042518Z"
    }
   },
   "outputs": [],
   "source": [
    "le = LabelEncoder()"
   ]
  },
  {
   "cell_type": "code",
   "execution_count": 10,
   "metadata": {
    "ExecuteTime": {
     "end_time": "2020-10-07T18:16:40.058541Z",
     "start_time": "2020-10-07T18:16:40.047827Z"
    }
   },
   "outputs": [],
   "source": [
    "y_train_enc = le.fit_transform(y_train)"
   ]
  },
  {
   "cell_type": "code",
   "execution_count": 11,
   "metadata": {
    "ExecuteTime": {
     "end_time": "2020-10-07T18:16:40.071618Z",
     "start_time": "2020-10-07T18:16:40.060786Z"
    }
   },
   "outputs": [],
   "source": [
    "y_test_enc = le.transform(y_test)"
   ]
  },
  {
   "cell_type": "markdown",
   "metadata": {},
   "source": [
    "# Test Training Set\n",
    "\n",
    "Test training set on prediction of True news has < 0.13% capital letters in the title of a news story and a Fake News story will have 0.13% or more."
   ]
  },
  {
   "cell_type": "code",
   "execution_count": 12,
   "metadata": {
    "ExecuteTime": {
     "end_time": "2020-10-07T18:16:40.077468Z",
     "start_time": "2020-10-07T18:16:40.074160Z"
    }
   },
   "outputs": [],
   "source": [
    "BREAK_POINT = 0.13"
   ]
  },
  {
   "cell_type": "code",
   "execution_count": 13,
   "metadata": {
    "ExecuteTime": {
     "end_time": "2020-10-07T18:16:40.085213Z",
     "start_time": "2020-10-07T18:16:40.079917Z"
    }
   },
   "outputs": [],
   "source": [
    "def predict_news(percent_capitals, percentage_break_point):\n",
    "    \"\"\"Return a classification for a news story.\"\"\"\n",
    "    if percent_capitals >= percentage_break_point:\n",
    "        return 0\n",
    "    else:\n",
    "        return 1"
   ]
  },
  {
   "cell_type": "code",
   "execution_count": 14,
   "metadata": {
    "ExecuteTime": {
     "end_time": "2020-10-07T18:16:40.119827Z",
     "start_time": "2020-10-07T18:16:40.087451Z"
    }
   },
   "outputs": [],
   "source": [
    "y_train_enc_hat = X_train['norm_caps_in_title'].apply(lambda x: predict_news(x, BREAK_POINT))"
   ]
  },
  {
   "cell_type": "code",
   "execution_count": 15,
   "metadata": {
    "ExecuteTime": {
     "end_time": "2020-10-07T18:16:40.188765Z",
     "start_time": "2020-10-07T18:16:40.122008Z"
    }
   },
   "outputs": [
    {
     "name": "stdout",
     "output_type": "stream",
     "text": [
      "              precision    recall  f1-score   support\n",
      "\n",
      "        fake       0.98      0.98      0.98     13957\n",
      "        true       0.98      0.98      0.98     16953\n",
      "\n",
      "    accuracy                           0.98     30910\n",
      "   macro avg       0.98      0.98      0.98     30910\n",
      "weighted avg       0.98      0.98      0.98     30910\n",
      "\n"
     ]
    }
   ],
   "source": [
    "print(classification_report(y_train_enc, y_train_enc_hat, target_names=le.classes_))"
   ]
  },
  {
   "cell_type": "code",
   "execution_count": 16,
   "metadata": {
    "ExecuteTime": {
     "end_time": "2020-10-07T18:16:40.237410Z",
     "start_time": "2020-10-07T18:16:40.190923Z"
    }
   },
   "outputs": [],
   "source": [
    "cm = confusion_matrix(y_train_enc, y_train_enc_hat)"
   ]
  },
  {
   "cell_type": "code",
   "execution_count": 17,
   "metadata": {
    "ExecuteTime": {
     "end_time": "2020-10-07T18:16:40.242889Z",
     "start_time": "2020-10-07T18:16:40.239611Z"
    }
   },
   "outputs": [],
   "source": [
    "matrix = ConfusionMatrixDisplay(confusion_matrix = cm,\n",
    "                                display_labels = le.classes_)"
   ]
  },
  {
   "cell_type": "code",
   "execution_count": 18,
   "metadata": {
    "ExecuteTime": {
     "end_time": "2020-10-07T18:16:40.584948Z",
     "start_time": "2020-10-07T18:16:40.245126Z"
    }
   },
   "outputs": [
    {
     "data": {
      "text/plain": "<Figure size 576x576 with 2 Axes>",
      "image/png": "[encoded data removed]"
     },
     "metadata": {
      "needs_background": "light"
     },
     "output_type": "display_data"
    }
   ],
   "source": [
    "fig, ax = plt.subplots(figsize = (8, 8))\n",
    "matrix = matrix.plot(include_values = True, \n",
    "                     cmap = plt.cm.Blues, \n",
    "                     ax = ax, \n",
    "                     xticks_rotation = 'horizontal',\n",
    "                     values_format = 'd')\n",
    "matrix.ax_.set_title('Confusion Matrix for Training Set')\n",
    "plt.show()"
   ]
  },
  {
   "cell_type": "code",
   "execution_count": 19,
   "metadata": {
    "ExecuteTime": {
     "end_time": "2020-10-07T18:16:40.636231Z",
     "start_time": "2020-10-07T18:16:40.587402Z"
    }
   },
   "outputs": [],
   "source": [
    "cm_norm = confusion_matrix(y_train_enc, y_train_enc_hat, normalize='true')\n",
    "matrix_norm = ConfusionMatrixDisplay(confusion_matrix = cm_norm,\n",
    "                                     display_labels = le.classes_)"
   ]
  },
  {
   "cell_type": "code",
   "execution_count": 20,
   "metadata": {
    "ExecuteTime": {
     "end_time": "2020-10-07T18:16:41.246039Z",
     "start_time": "2020-10-07T18:16:40.638571Z"
    }
   },
   "outputs": [
    {
     "data": {
      "text/plain": "<Figure size 576x576 with 2 Axes>",
      "image/png": "[encoded data removed]"
     },
     "metadata": {
      "needs_background": "light"
     },
     "output_type": "display_data"
    }
   ],
   "source": [
    "fig, ax = plt.subplots(figsize = (8, 8))\n",
    "matrix_norm = matrix_norm.plot(include_values = True, \n",
    "                               cmap = plt.cm.Blues, \n",
    "                               ax = ax, \n",
    "                               xticks_rotation = 'horizontal')\n",
    "matrix_norm.ax_.set_title('Normalized Confusion Matrix for Training Set')\n",
    "plt.show()"
   ]
  },
  {
   "cell_type": "markdown",
   "metadata": {},
   "source": [
    "# Review misclassified news stories."
   ]
  },
  {
   "cell_type": "code",
   "execution_count": 21,
   "metadata": {
    "ExecuteTime": {
     "end_time": "2020-10-07T18:16:41.253849Z",
     "start_time": "2020-10-07T18:16:41.249074Z"
    }
   },
   "outputs": [],
   "source": [
    "# reindex data\n",
    "X_train.reset_index(drop=True, inplace=True)\n",
    "y_train_enc_hat.reset_index(drop=True, inplace=True)\n",
    "# y_train_enc doesn't need to be reindexed because it already was at train_test_split"
   ]
  },
  {
   "cell_type": "code",
   "execution_count": 22,
   "metadata": {
    "ExecuteTime": {
     "end_time": "2020-10-07T18:16:41.272319Z",
     "start_time": "2020-10-07T18:16:41.256492Z"
    }
   },
   "outputs": [],
   "source": [
    "df_with_results = pd.concat([X_train, pd.Series(y_train_enc), pd.Series(y_train_enc_hat)], \n",
    "                            axis=1, ignore_index=True)"
   ]
  },
  {
   "cell_type": "code",
   "execution_count": 23,
   "metadata": {
    "ExecuteTime": {
     "end_time": "2020-10-07T18:16:41.307449Z",
     "start_time": "2020-10-07T18:16:41.303045Z"
    }
   },
   "outputs": [],
   "source": [
    "df_with_results.columns = ['title', 'norm_caps_in_title', 'label', 'label_predicted']"
   ]
  },
  {
   "cell_type": "code",
   "execution_count": 24,
   "metadata": {
    "ExecuteTime": {
     "end_time": "2020-10-07T18:18:53.135512Z",
     "start_time": "2020-10-07T18:18:53.128228Z"
    },
    "scrolled": true
   },
   "outputs": [],
   "source": [
    "df_fake_as_true = df_with_results[(df_with_results.label == 0) & (df_with_results.label_predicted == 1)]"
   ]
  },
  {
   "cell_type": "code",
   "execution_count": 25,
   "metadata": {
    "ExecuteTime": {
     "end_time": "2020-10-07T18:21:40.296834Z",
     "start_time": "2020-10-07T18:21:40.293388Z"
    }
   },
   "outputs": [],
   "source": [
    "pd.set_option('display.max_colwidth', None)"
   ]
  },
  {
   "cell_type": "markdown",
   "metadata": {},
   "source": [
    "Look at a sample of Fake News titles that were misclassified as True"
   ]
  },
  {
   "cell_type": "code",
   "execution_count": 26,
   "metadata": {
    "ExecuteTime": {
     "end_time": "2020-10-07T18:28:04.485494Z",
     "start_time": "2020-10-07T18:28:04.463064Z"
    },
    "scrolled": true
   },
   "outputs": [
    {
     "data": {
      "text/plain": "                                                                                                                                                                                   title  \\\n6                                                                                                                                                        President Obama Arrives in Cuba   \n11                                                                                                 51 Companies Are Pledging Over $650 Million In Refugee Support, White House Announces   \n29                                                                                                  Ben Carson: Homeless Shelters Shouldn’t Be “Comfortable” Because People Might “Stay”   \n30                                                                                        Hillary Clinton: “Victory Fund” Gets Massive Cash Injection from Hedge Fund Management (Soros)   \n61                                                                                                                                                          Good News for Silver in 2017   \n193                                                                                                                    Clinton Foundation Didn’t Report $20 Million In Foreign Donations   \n267                             WATCH OBAMA Admit To Rigged Elections In 2008: “Whenever people are in power, they have this tendency to try to tilt things in their direction.” [Video]   \n340                                                                                                       Preparing to Invade: US Deploys Additional 2,500 Soldiers for ‘Syria and Iraq’   \n588                                                                                                                     Philosopher Slavoj Žižek: ‘The American Left Lacks Authenticity’   \n772                                 (Video) Colonel Ralph Peters Hammers Obama on Putin and Russian Airstrikes in Syria: “…our president is a deer caught in the headlights of history.”   \n851                                                                                                          Keiser Report: The ‘Gaddafi-like’ Political Career Death of Hillary Clinton   \n920                                                                                                (Video) Angry Latino Activist: “Ultimately, it doesn’t matter if we’re undocumented.”   \n1071                                                                                    CIA Report Released: Trump maintains DNC Leaks had “Absolutely no effect on outcome of election”   \n1086                                                                                                             Dear America: Stop Supporting Terrorists in Syria, and Around the World   \n1118                                                                                                 Virginia Shooter Hodgkinson Was ‘Never Trump’ Fanatic and Devotee of Bernie Sanders   \n1185                                                             Ten Things We’ve Learned from Hurricane Harvey and the Texas Flood 2017: ‘Race doesn’t divide us, the media divides us’   \n1263                                                                                                      Hollywood Hip to Al Qaeda: ‘And the Oscar for Best Documentary Short goes to…’   \n1302                                                                          Episode #208 – ‘Not The Network’ – Sunday Wire with Hesher, Funk$oul and Patrick Henningsen Live from Iraq   \n1742                                                                                                         OBAMA: ‘There’s little difference between communism and capitalism’ [Video]   \n2175  NURSE FROM One Of Nation’s Largest Hospitals Tweets: “Every white woman raises a detriment to society when they raise a son”…Their Sons “should be sacrificed to the wolves b___””   \n2202                                                                                                                               New Report Says Trump Destroyed Scaramucci’s Marriage   \n2367                                                                                                                                   Bookings For Trump’s Hotels Plummet By 60 percent   \n2682                                                                                                                      “We choose the nominee, not the people” – GOP Official [Video]   \n2749                                                                                                                              Who’s Better: “Dangerous Donald” or “Crooked Hillary”?   \n2841                                                                                               Republican Lawmaker Introduces Bill To Eliminate The Department Of Education Entirely   \n2913                                                                            Classless Obama Continues to Shamelessly Shadow Trump: ‘We have a temporary lack of American leadership’   \n2956                                                                                                                           Washington’s Criminal Activities Are Only Getting Messier   \n2981                                                                                     Kind Woman Brings Beer to Reporter During Hurricane Report: “Have some Galveston beer!” [Video]   \n3156                                                                                             Yahoo caves in to NSA, FBI – and secretly monitors customer email accounts for US Gov’t   \n3233                                                                                                        Nunes’ Replacement In Trump Investigation Defended Russian Hackers And Putin   \n3296                                                                Obama To U.S.Military On Putin: “he did not take my warnings” On Syria…Encourages Russians To “get a little smarter”   \n3305                                                                                        Mark Zuckerberg Stands Strong With Black Lives Matter – Reprimands Racist Facebook Employees   \n3361                                                                                      Deputy Attorney General Doubles Down On Comey Memo: “I wrote it. I believe it. I stand by it.”   \n3372                                                                                                                      Hillary Clinton: ‘Israel First’ (and no peace for Middle East)   \n3590                                                                                          Progressive Champion Elizabeth Warren Will Deliver Keynote Speech To Democratic Convention   \n3793                                                                                                     Trump’s First Congressional Speech Stuns Media Detractors – Stock Markets Rally   \n3968                                                      Parents Outraged Over NC Teacher Forcing White and Christian Students to Stand Up in Class and Apologize for their ‘Privilege’   \n4489                                                                                             Finally, Obama Speaks: Americans Need to ‘Reconcile Themselves’ with a Trump Presidency   \n4528                                                                                                                             Henningsen on CrossTalk Debating ‘Trump & His Generals’   \n4642                                                                                            Trump Executive Order on Ethics Commitments Bans Lobbying for Executive Branch Employees   \n4644                                                                                                             George Zimmerman Launches Despicable Attack On Trayvon Martin’s Parents   \n4660                                                                                                             Trump Project Under Federal Investigation, Possibly Violates Labor Laws   \n4744                                                                                                            Florida Police Recommend Unbelievably Light Charge For 2nd Amendment Mom   \n5164                                                                                               White House Petition Calling For Ariz. Primary Investigation Receives 100k Signatures   \n5239                                                                                        Heartbreaking: This Democratic Senator Just Tweeted The Entire Mass Shooting History Of 2015   \n5322                                                                                                    Economist Responsible For ‘Reaganomics’ Makes Laughable 2016 Election Prediction   \n5456                                                                                            ‘Simpsons’ Creator Matt Groening Eerily Foresaw Today’s Republican Insanity 25 Years Ago   \n5484                                                                                                                   U.S. State Dept. Spox: ‘Everybody wants Assad out five years ago’   \n5755                                                                                                             Trump’s Latest Tease Pales Next to Bush and Gore’s Election War in 2000   \n5787                                                                                                                                     Boiler Room EP #126 – Immigration Consternation   \n\n      norm_caps_in_title  label  label_predicted  \n6               0.129032      0                1  \n11              0.127907      0                1  \n29              0.129412      0                1  \n30              0.127660      0                1  \n61              0.107143      0                1  \n193             0.123077      0                1  \n267             0.111842      0                1  \n340             0.115385      0                1  \n588             0.125000      0                1  \n772             0.067568      0                1  \n851             0.120000      0                1  \n920             0.058824      0                1  \n1071            0.114583      0                1  \n1086            0.112676      0                1  \n1118            0.120482      0                1  \n1185            0.075630      0                1  \n1263            0.115385      0                1  \n1302            0.113208      0                1  \n1742            0.093333      0                1  \n2175            0.101124      0                1  \n2202            0.129630      0                1  \n2367            0.120000      0                1  \n2682            0.096774      0                1  \n2749            0.111111      0                1  \n2841            0.127907      0                1  \n2913            0.076923      0                1  \n2956            0.122807      0                1  \n2981            0.115789      0                1  \n3156            0.114943      0                1  \n3233            0.129870      0                1  \n3296            0.103448      0                1  \n3305            0.129032      0                1  \n3361            0.117021      0                1  \n3372            0.096774      0                1  \n3590            0.120879      0                1  \n3793            0.126582      0                1  \n3968            0.119048      0                1  \n4489            0.103448      0                1  \n4528            0.127273      0                1  \n4642            0.113636      0                1  \n4644            0.125000      0                1  \n4660            0.125000      0                1  \n4744            0.123288      0                1  \n5164            0.116279      0                1  \n5239            0.129032      0                1  \n5322            0.098765      0                1  \n5456            0.123596      0                1  \n5484            0.107692      0                1  \n5755            0.126761      0                1  \n5787            0.127660      0                1  ",
      "text/html": "<div>\n<style scoped>\n    .dataframe tbody tr th:only-of-type {\n        vertical-align: middle;\n    }\n\n    .dataframe tbody tr th {\n        vertical-align: top;\n    }\n\n    .dataframe thead th {\n        text-align: right;\n    }\n</style>\n<table border=\"1\" class=\"dataframe\">\n  <thead>\n    <tr style=\"text-align: right;\">\n      <th></th>\n      <th>title</th>\n      <th>norm_caps_in_title</th>\n      <th>label</th>\n      <th>label_predicted</th>\n    </tr>\n  </thead>\n  <tbody>\n    <tr>\n      <th>6</th>\n      <td>President Obama Arrives in Cuba</td>\n      <td>0.129032</td>\n      <td>0</td>\n      <td>1</td>\n    </tr>\n    <tr>\n      <th>11</th>\n      <td>51 Companies Are Pledging Over $650 Million In Refugee Support, White House Announces</td>\n      <td>0.127907</td>\n      <td>0</td>\n      <td>1</td>\n    </tr>\n    <tr>\n      <th>29</th>\n      <td>Ben Carson: Homeless Shelters Shouldn’t Be “Comfortable” Because People Might “Stay”</td>\n      <td>0.129412</td>\n      <td>0</td>\n      <td>1</td>\n    </tr>\n    <tr>\n      <th>30</th>\n      <td>Hillary Clinton: “Victory Fund” Gets Massive Cash Injection from Hedge Fund Management (Soros)</td>\n      <td>0.127660</td>\n      <td>0</td>\n      <td>1</td>\n    </tr>\n    <tr>\n      <th>61</th>\n      <td>Good News for Silver in 2017</td>\n      <td>0.107143</td>\n      <td>0</td>\n      <td>1</td>\n    </tr>\n    <tr>\n      <th>193</th>\n      <td>Clinton Foundation Didn’t Report $20 Million In Foreign Donations</td>\n      <td>0.123077</td>\n      <td>0</td>\n      <td>1</td>\n    </tr>\n    <tr>\n      <th>267</th>\n      <td>WATCH OBAMA Admit To Rigged Elections In 2008: “Whenever people are in power, they have this tendency to try to tilt things in their direction.” [Video]</td>\n      <td>0.111842</td>\n      <td>0</td>\n      <td>1</td>\n    </tr>\n    <tr>\n      <th>340</th>\n      <td>Preparing to Invade: US Deploys Additional 2,500 Soldiers for ‘Syria and Iraq’</td>\n      <td>0.115385</td>\n      <td>0</td>\n      <td>1</td>\n    </tr>\n    <tr>\n      <th>588</th>\n      <td>Philosopher Slavoj Žižek: ‘The American Left Lacks Authenticity’</td>\n      <td>0.125000</td>\n      <td>0</td>\n      <td>1</td>\n    </tr>\n    <tr>\n      <th>772</th>\n      <td>(Video) Colonel Ralph Peters Hammers Obama on Putin and Russian Airstrikes in Syria: “…our president is a deer caught in the headlights of history.”</td>\n      <td>0.067568</td>\n      <td>0</td>\n      <td>1</td>\n    </tr>\n    <tr>\n      <th>851</th>\n      <td>Keiser Report: The ‘Gaddafi-like’ Political Career Death of Hillary Clinton</td>\n      <td>0.120000</td>\n      <td>0</td>\n      <td>1</td>\n    </tr>\n    <tr>\n      <th>920</th>\n      <td>(Video) Angry Latino Activist: “Ultimately, it doesn’t matter if we’re undocumented.”</td>\n      <td>0.058824</td>\n      <td>0</td>\n      <td>1</td>\n    </tr>\n    <tr>\n      <th>1071</th>\n      <td>CIA Report Released: Trump maintains DNC Leaks had “Absolutely no effect on outcome of election”</td>\n      <td>0.114583</td>\n      <td>0</td>\n      <td>1</td>\n    </tr>\n    <tr>\n      <th>1086</th>\n      <td>Dear America: Stop Supporting Terrorists in Syria, and Around the World</td>\n      <td>0.112676</td>\n      <td>0</td>\n      <td>1</td>\n    </tr>\n    <tr>\n      <th>1118</th>\n      <td>Virginia Shooter Hodgkinson Was ‘Never Trump’ Fanatic and Devotee of Bernie Sanders</td>\n      <td>0.120482</td>\n      <td>0</td>\n      <td>1</td>\n    </tr>\n    <tr>\n      <th>1185</th>\n      <td>Ten Things We’ve Learned from Hurricane Harvey and the Texas Flood 2017: ‘Race doesn’t divide us, the media divides us’</td>\n      <td>0.075630</td>\n      <td>0</td>\n      <td>1</td>\n    </tr>\n    <tr>\n      <th>1263</th>\n      <td>Hollywood Hip to Al Qaeda: ‘And the Oscar for Best Documentary Short goes to…’</td>\n      <td>0.115385</td>\n      <td>0</td>\n      <td>1</td>\n    </tr>\n    <tr>\n      <th>1302</th>\n      <td>Episode #208 – ‘Not The Network’ – Sunday Wire with Hesher, Funk$oul and Patrick Henningsen Live from Iraq</td>\n      <td>0.113208</td>\n      <td>0</td>\n      <td>1</td>\n    </tr>\n    <tr>\n      <th>1742</th>\n      <td>OBAMA: ‘There’s little difference between communism and capitalism’ [Video]</td>\n      <td>0.093333</td>\n      <td>0</td>\n      <td>1</td>\n    </tr>\n    <tr>\n      <th>2175</th>\n      <td>NURSE FROM One Of Nation’s Largest Hospitals Tweets: “Every white woman raises a detriment to society when they raise a son”…Their Sons “should be sacrificed to the wolves b___””</td>\n      <td>0.101124</td>\n      <td>0</td>\n      <td>1</td>\n    </tr>\n    <tr>\n      <th>2202</th>\n      <td>New Report Says Trump Destroyed Scaramucci’s Marriage</td>\n      <td>0.129630</td>\n      <td>0</td>\n      <td>1</td>\n    </tr>\n    <tr>\n      <th>2367</th>\n      <td>Bookings For Trump’s Hotels Plummet By 60 percent</td>\n      <td>0.120000</td>\n      <td>0</td>\n      <td>1</td>\n    </tr>\n    <tr>\n      <th>2682</th>\n      <td>“We choose the nominee, not the people” – GOP Official [Video]</td>\n      <td>0.096774</td>\n      <td>0</td>\n      <td>1</td>\n    </tr>\n    <tr>\n      <th>2749</th>\n      <td>Who’s Better: “Dangerous Donald” or “Crooked Hillary”?</td>\n      <td>0.111111</td>\n      <td>0</td>\n      <td>1</td>\n    </tr>\n    <tr>\n      <th>2841</th>\n      <td>Republican Lawmaker Introduces Bill To Eliminate The Department Of Education Entirely</td>\n      <td>0.127907</td>\n      <td>0</td>\n      <td>1</td>\n    </tr>\n    <tr>\n      <th>2913</th>\n      <td>Classless Obama Continues to Shamelessly Shadow Trump: ‘We have a temporary lack of American leadership’</td>\n      <td>0.076923</td>\n      <td>0</td>\n      <td>1</td>\n    </tr>\n    <tr>\n      <th>2956</th>\n      <td>Washington’s Criminal Activities Are Only Getting Messier</td>\n      <td>0.122807</td>\n      <td>0</td>\n      <td>1</td>\n    </tr>\n    <tr>\n      <th>2981</th>\n      <td>Kind Woman Brings Beer to Reporter During Hurricane Report: “Have some Galveston beer!” [Video]</td>\n      <td>0.115789</td>\n      <td>0</td>\n      <td>1</td>\n    </tr>\n    <tr>\n      <th>3156</th>\n      <td>Yahoo caves in to NSA, FBI – and secretly monitors customer email accounts for US Gov’t</td>\n      <td>0.114943</td>\n      <td>0</td>\n      <td>1</td>\n    </tr>\n    <tr>\n      <th>3233</th>\n      <td>Nunes’ Replacement In Trump Investigation Defended Russian Hackers And Putin</td>\n      <td>0.129870</td>\n      <td>0</td>\n      <td>1</td>\n    </tr>\n    <tr>\n      <th>3296</th>\n      <td>Obama To U.S.Military On Putin: “he did not take my warnings” On Syria…Encourages Russians To “get a little smarter”</td>\n      <td>0.103448</td>\n      <td>0</td>\n      <td>1</td>\n    </tr>\n    <tr>\n      <th>3305</th>\n      <td>Mark Zuckerberg Stands Strong With Black Lives Matter – Reprimands Racist Facebook Employees</td>\n      <td>0.129032</td>\n      <td>0</td>\n      <td>1</td>\n    </tr>\n    <tr>\n      <th>3361</th>\n      <td>Deputy Attorney General Doubles Down On Comey Memo: “I wrote it. I believe it. I stand by it.”</td>\n      <td>0.117021</td>\n      <td>0</td>\n      <td>1</td>\n    </tr>\n    <tr>\n      <th>3372</th>\n      <td>Hillary Clinton: ‘Israel First’ (and no peace for Middle East)</td>\n      <td>0.096774</td>\n      <td>0</td>\n      <td>1</td>\n    </tr>\n    <tr>\n      <th>3590</th>\n      <td>Progressive Champion Elizabeth Warren Will Deliver Keynote Speech To Democratic Convention</td>\n      <td>0.120879</td>\n      <td>0</td>\n      <td>1</td>\n    </tr>\n    <tr>\n      <th>3793</th>\n      <td>Trump’s First Congressional Speech Stuns Media Detractors – Stock Markets Rally</td>\n      <td>0.126582</td>\n      <td>0</td>\n      <td>1</td>\n    </tr>\n    <tr>\n      <th>3968</th>\n      <td>Parents Outraged Over NC Teacher Forcing White and Christian Students to Stand Up in Class and Apologize for their ‘Privilege’</td>\n      <td>0.119048</td>\n      <td>0</td>\n      <td>1</td>\n    </tr>\n    <tr>\n      <th>4489</th>\n      <td>Finally, Obama Speaks: Americans Need to ‘Reconcile Themselves’ with a Trump Presidency</td>\n      <td>0.103448</td>\n      <td>0</td>\n      <td>1</td>\n    </tr>\n    <tr>\n      <th>4528</th>\n      <td>Henningsen on CrossTalk Debating ‘Trump &amp; His Generals’</td>\n      <td>0.127273</td>\n      <td>0</td>\n      <td>1</td>\n    </tr>\n    <tr>\n      <th>4642</th>\n      <td>Trump Executive Order on Ethics Commitments Bans Lobbying for Executive Branch Employees</td>\n      <td>0.113636</td>\n      <td>0</td>\n      <td>1</td>\n    </tr>\n    <tr>\n      <th>4644</th>\n      <td>George Zimmerman Launches Despicable Attack On Trayvon Martin’s Parents</td>\n      <td>0.125000</td>\n      <td>0</td>\n      <td>1</td>\n    </tr>\n    <tr>\n      <th>4660</th>\n      <td>Trump Project Under Federal Investigation, Possibly Violates Labor Laws</td>\n      <td>0.125000</td>\n      <td>0</td>\n      <td>1</td>\n    </tr>\n    <tr>\n      <th>4744</th>\n      <td>Florida Police Recommend Unbelievably Light Charge For 2nd Amendment Mom</td>\n      <td>0.123288</td>\n      <td>0</td>\n      <td>1</td>\n    </tr>\n    <tr>\n      <th>5164</th>\n      <td>White House Petition Calling For Ariz. Primary Investigation Receives 100k Signatures</td>\n      <td>0.116279</td>\n      <td>0</td>\n      <td>1</td>\n    </tr>\n    <tr>\n      <th>5239</th>\n      <td>Heartbreaking: This Democratic Senator Just Tweeted The Entire Mass Shooting History Of 2015</td>\n      <td>0.129032</td>\n      <td>0</td>\n      <td>1</td>\n    </tr>\n    <tr>\n      <th>5322</th>\n      <td>Economist Responsible For ‘Reaganomics’ Makes Laughable 2016 Election Prediction</td>\n      <td>0.098765</td>\n      <td>0</td>\n      <td>1</td>\n    </tr>\n    <tr>\n      <th>5456</th>\n      <td>‘Simpsons’ Creator Matt Groening Eerily Foresaw Today’s Republican Insanity 25 Years Ago</td>\n      <td>0.123596</td>\n      <td>0</td>\n      <td>1</td>\n    </tr>\n    <tr>\n      <th>5484</th>\n      <td>U.S. State Dept. Spox: ‘Everybody wants Assad out five years ago’</td>\n      <td>0.107692</td>\n      <td>0</td>\n      <td>1</td>\n    </tr>\n    <tr>\n      <th>5755</th>\n      <td>Trump’s Latest Tease Pales Next to Bush and Gore’s Election War in 2000</td>\n      <td>0.126761</td>\n      <td>0</td>\n      <td>1</td>\n    </tr>\n    <tr>\n      <th>5787</th>\n      <td>Boiler Room EP #126 – Immigration Consternation</td>\n      <td>0.127660</td>\n      <td>0</td>\n      <td>1</td>\n    </tr>\n  </tbody>\n</table>\n</div>"
     },
     "execution_count": 26,
     "metadata": {},
     "output_type": "execute_result"
    }
   ],
   "source": [
    "df_fake_as_true.head(50)"
   ]
  },
  {
   "cell_type": "markdown",
   "metadata": {},
   "source": [
    "They mostly follow a standard capitalization format with ones that have some all-capitals words being very long which reduces the % of caps."
   ]
  },
  {
   "cell_type": "markdown",
   "metadata": {},
   "source": [
    "Look at a sample of True News titles there were misclassified as Fake"
   ]
  },
  {
   "cell_type": "code",
   "execution_count": 27,
   "metadata": {
    "ExecuteTime": {
     "end_time": "2020-10-07T18:25:35.254214Z",
     "start_time": "2020-10-07T18:25:35.248473Z"
    }
   },
   "outputs": [],
   "source": [
    "df_true_as_fake = df_with_results[(df_with_results.label == 1) & (df_with_results.label_predicted == 0)]"
   ]
  },
  {
   "cell_type": "code",
   "execution_count": 28,
   "metadata": {
    "ExecuteTime": {
     "end_time": "2020-10-07T18:27:28.621690Z",
     "start_time": "2020-10-07T18:27:28.599383Z"
    },
    "scrolled": true
   },
   "outputs": [
    {
     "data": {
      "text/plain": "                                                                                         title  \\\n101                                      Factbox: Trump on Twitter (Nov. 28) - NFL, First Lady   \n107                                     Saudi Crown Prince calls Iran leader 'new Hitler': NYT   \n176                                          U.S. Senate backs Montenegro's membership in NATO   \n221   U.S.'s Pence, German Foreign Minister agree on NATO's central security role: White House   \n657                                               UNESCO selects France's Azoulay as new chief   \n658                                         EDF wants to take part in Saudi nuclear plans: CEO   \n678                                 Four Russian reporters injured in Syria's Deir al-Zor: RIA   \n790                                                                 The rocky history of NAFTA   \n791                              U.S. President Trump to visit Britain in February: Daily Mail   \n913                   Highlights: The Trump presidency on February 3 at 6:25 P.M. EST/2325 GMT   \n996                                  Factbox: Trump on Twitter (Sept 18) - U.S. Air Force, CIA   \n1238        Highlights: The Trump presidency on April 26 at 9:12 P.M. EDT/0112 GMT on April 27   \n1431                                        Qatar to buy 24 Typhoon jets from UK's BAE Systems   \n1472                         Senior U.S. lawmakers want India PM Modi to address U.S. Congress   \n1606              ICC reports Jordan to U.N. Security Council for not arresting Sudan's Bashir   \n1613                                         Trump taps RNC's Spicer for White House spokesman   \n1778                         Despite tensions, U.S. sees value in New START treaty with Russia   \n1932                                              World's stateless deserve nationality: UNHCR   \n1944                         Former Ku Klux Klan leader Duke runs for U.S. Senate in Louisiana   \n2213                                Factbox: How South Africa's ANC will pick Zuma's successor   \n2421                                      Colombia sees peace with ELN rebels harder than FARC   \n2582                     Obama to visit Poland, Spain in NATO summit trip in July: White House   \n2674                      Trump to nominate attorney Kevin McIntyre to chair FERC: White House   \n2776                             Israel PM Netanyahu to meet with Trump on Feb 15: White House   \n2994                        Top Democratic senator probes SWIFT, NY Fed about Bangladesh heist   \n3387                         Russia's Lavrov, Tillerson to meet at U.N. General Assembly: TASS   \n3519                                             Senate confirms Dr. Robert Califf to lead FDA   \n3648                             U.S., South Korea agree to deploy THAAD this year, South says   \n3825          Highlights: The Trump presidency on April 13 at 9:30 P.M. EDT/0130 GMT on Friday   \n3909                             Nigerian oil union PENGASSAN suspends strike: union president   \n3957                                  UAE denies Yemen's Houthis have fired missile toward UAE   \n4033                                     Eighty percent of Puerto Rico power lines down: PREPA   \n4179                                                              The Adoration Of Kim Jong Un   \n4198                                 House Intelligence postpones closed session with FBI, NSA   \n4273               Factbox: Trump on Twitter (November 29) - Matt Lauer, North Korea, Tax Cuts   \n4811                                      Biden says 'no desire' to be on Supreme Court: MSNBC   \n4993                     Top House Intel panel Democrat rebukes chairman over subpoenas: MSNBC   \n5005                           Trump endorses Romney niece Ronna Romney McDaniel for RNC chair   \n5266                                            British PM May meets Iraqi PM Abadi in Baghdad   \n5327  U.S. Tillerson assures Washington's only goal in Syria is fighting IS: TASS cites Lavrov   \n5419                      Former New York City Mayor Bloomberg to endorse Hillary Clinton: NYT   \n5438                             Text of Nobel Peace Prize award to anti-nuclear campaign ICAN   \n5483                                            EU's Schulz wouldn't favor a Trump White House   \n5807                  Former U.S. President Jimmy Carter says would travel to North Korea: NYT   \n5824                                           Trump questions U.S. financial backing for NATO   \n5914                             Russian envoy to U.S. to inspect San Francisco consulate: RIA   \n5947                                             Trump on Twitter (August 10): Mitch McConnell   \n6006                                 Trump on Twitter (Dec 26) - Hillary Clinton, Tax Cut Bill   \n6579                                        HP CEO Whitman compares Trump to Hitler, Mussolini   \n6596                                         INTERNET: Living with the Great Firewall of China   \n\n      norm_caps_in_title  label  label_predicted  \n101             0.169811      1                0  \n107             0.148148      1                0  \n176             0.163265      1                0  \n221             0.136364      1                0  \n657             0.181818      1                0  \n658             0.140000      1                0  \n678             0.137931      1                0  \n790             0.230769      1                0  \n791             0.131148      1                0  \n913             0.166667      1                0  \n996             0.192982      1                0  \n1238            0.158537      1                0  \n1431            0.160000      1                0  \n1472            0.153846      1                0  \n1606            0.131579      1                0  \n1613            0.142857      1                0  \n1778            0.153846      1                0  \n1932            0.136364      1                0  \n1944            0.138462      1                0  \n2213            0.137931      1                0  \n2421            0.153846      1                0  \n2582            0.144928      1                0  \n2674            0.147059      1                0  \n2776            0.131148      1                0  \n2994            0.166667      1                0  \n3387            0.169231      1                0  \n3519            0.155556      1                0  \n3648            0.163934      1                0  \n3825            0.162500      1                0  \n3909            0.163934      1                0  \n3957            0.142857      1                0  \n4033            0.150943      1                0  \n4179            0.214286      1                0  \n4198            0.140351      1                0  \n4273            0.133333      1                0  \n4811            0.153846      1                0  \n4993            0.130435      1                0  \n5005            0.142857      1                0  \n5266            0.195652      1                0  \n5327            0.136364      1                0  \n5419            0.161765      1                0  \n5438            0.131148      1                0  \n5483            0.130435      1                0  \n5807            0.152778      1                0  \n5824            0.148936      1                0  \n5914            0.131148      1                0  \n5947            0.133333      1                0  \n6006            0.140351      1                0  \n6579            0.180000      1                0  \n6596            0.244898      1                0  ",
      "text/html": "<div>\n<style scoped>\n    .dataframe tbody tr th:only-of-type {\n        vertical-align: middle;\n    }\n\n    .dataframe tbody tr th {\n        vertical-align: top;\n    }\n\n    .dataframe thead th {\n        text-align: right;\n    }\n</style>\n<table border=\"1\" class=\"dataframe\">\n  <thead>\n    <tr style=\"text-align: right;\">\n      <th></th>\n      <th>title</th>\n      <th>norm_caps_in_title</th>\n      <th>label</th>\n      <th>label_predicted</th>\n    </tr>\n  </thead>\n  <tbody>\n    <tr>\n      <th>101</th>\n      <td>Factbox: Trump on Twitter (Nov. 28) - NFL, First Lady</td>\n      <td>0.169811</td>\n      <td>1</td>\n      <td>0</td>\n    </tr>\n    <tr>\n      <th>107</th>\n      <td>Saudi Crown Prince calls Iran leader 'new Hitler': NYT</td>\n      <td>0.148148</td>\n      <td>1</td>\n      <td>0</td>\n    </tr>\n    <tr>\n      <th>176</th>\n      <td>U.S. Senate backs Montenegro's membership in NATO</td>\n      <td>0.163265</td>\n      <td>1</td>\n      <td>0</td>\n    </tr>\n    <tr>\n      <th>221</th>\n      <td>U.S.'s Pence, German Foreign Minister agree on NATO's central security role: White House</td>\n      <td>0.136364</td>\n      <td>1</td>\n      <td>0</td>\n    </tr>\n    <tr>\n      <th>657</th>\n      <td>UNESCO selects France's Azoulay as new chief</td>\n      <td>0.181818</td>\n      <td>1</td>\n      <td>0</td>\n    </tr>\n    <tr>\n      <th>658</th>\n      <td>EDF wants to take part in Saudi nuclear plans: CEO</td>\n      <td>0.140000</td>\n      <td>1</td>\n      <td>0</td>\n    </tr>\n    <tr>\n      <th>678</th>\n      <td>Four Russian reporters injured in Syria's Deir al-Zor: RIA</td>\n      <td>0.137931</td>\n      <td>1</td>\n      <td>0</td>\n    </tr>\n    <tr>\n      <th>790</th>\n      <td>The rocky history of NAFTA</td>\n      <td>0.230769</td>\n      <td>1</td>\n      <td>0</td>\n    </tr>\n    <tr>\n      <th>791</th>\n      <td>U.S. President Trump to visit Britain in February: Daily Mail</td>\n      <td>0.131148</td>\n      <td>1</td>\n      <td>0</td>\n    </tr>\n    <tr>\n      <th>913</th>\n      <td>Highlights: The Trump presidency on February 3 at 6:25 P.M. EST/2325 GMT</td>\n      <td>0.166667</td>\n      <td>1</td>\n      <td>0</td>\n    </tr>\n    <tr>\n      <th>996</th>\n      <td>Factbox: Trump on Twitter (Sept 18) - U.S. Air Force, CIA</td>\n      <td>0.192982</td>\n      <td>1</td>\n      <td>0</td>\n    </tr>\n    <tr>\n      <th>1238</th>\n      <td>Highlights: The Trump presidency on April 26 at 9:12 P.M. EDT/0112 GMT on April 27</td>\n      <td>0.158537</td>\n      <td>1</td>\n      <td>0</td>\n    </tr>\n    <tr>\n      <th>1431</th>\n      <td>Qatar to buy 24 Typhoon jets from UK's BAE Systems</td>\n      <td>0.160000</td>\n      <td>1</td>\n      <td>0</td>\n    </tr>\n    <tr>\n      <th>1472</th>\n      <td>Senior U.S. lawmakers want India PM Modi to address U.S. Congress</td>\n      <td>0.153846</td>\n      <td>1</td>\n      <td>0</td>\n    </tr>\n    <tr>\n      <th>1606</th>\n      <td>ICC reports Jordan to U.N. Security Council for not arresting Sudan's Bashir</td>\n      <td>0.131579</td>\n      <td>1</td>\n      <td>0</td>\n    </tr>\n    <tr>\n      <th>1613</th>\n      <td>Trump taps RNC's Spicer for White House spokesman</td>\n      <td>0.142857</td>\n      <td>1</td>\n      <td>0</td>\n    </tr>\n    <tr>\n      <th>1778</th>\n      <td>Despite tensions, U.S. sees value in New START treaty with Russia</td>\n      <td>0.153846</td>\n      <td>1</td>\n      <td>0</td>\n    </tr>\n    <tr>\n      <th>1932</th>\n      <td>World's stateless deserve nationality: UNHCR</td>\n      <td>0.136364</td>\n      <td>1</td>\n      <td>0</td>\n    </tr>\n    <tr>\n      <th>1944</th>\n      <td>Former Ku Klux Klan leader Duke runs for U.S. Senate in Louisiana</td>\n      <td>0.138462</td>\n      <td>1</td>\n      <td>0</td>\n    </tr>\n    <tr>\n      <th>2213</th>\n      <td>Factbox: How South Africa's ANC will pick Zuma's successor</td>\n      <td>0.137931</td>\n      <td>1</td>\n      <td>0</td>\n    </tr>\n    <tr>\n      <th>2421</th>\n      <td>Colombia sees peace with ELN rebels harder than FARC</td>\n      <td>0.153846</td>\n      <td>1</td>\n      <td>0</td>\n    </tr>\n    <tr>\n      <th>2582</th>\n      <td>Obama to visit Poland, Spain in NATO summit trip in July: White House</td>\n      <td>0.144928</td>\n      <td>1</td>\n      <td>0</td>\n    </tr>\n    <tr>\n      <th>2674</th>\n      <td>Trump to nominate attorney Kevin McIntyre to chair FERC: White House</td>\n      <td>0.147059</td>\n      <td>1</td>\n      <td>0</td>\n    </tr>\n    <tr>\n      <th>2776</th>\n      <td>Israel PM Netanyahu to meet with Trump on Feb 15: White House</td>\n      <td>0.131148</td>\n      <td>1</td>\n      <td>0</td>\n    </tr>\n    <tr>\n      <th>2994</th>\n      <td>Top Democratic senator probes SWIFT, NY Fed about Bangladesh heist</td>\n      <td>0.166667</td>\n      <td>1</td>\n      <td>0</td>\n    </tr>\n    <tr>\n      <th>3387</th>\n      <td>Russia's Lavrov, Tillerson to meet at U.N. General Assembly: TASS</td>\n      <td>0.169231</td>\n      <td>1</td>\n      <td>0</td>\n    </tr>\n    <tr>\n      <th>3519</th>\n      <td>Senate confirms Dr. Robert Califf to lead FDA</td>\n      <td>0.155556</td>\n      <td>1</td>\n      <td>0</td>\n    </tr>\n    <tr>\n      <th>3648</th>\n      <td>U.S., South Korea agree to deploy THAAD this year, South says</td>\n      <td>0.163934</td>\n      <td>1</td>\n      <td>0</td>\n    </tr>\n    <tr>\n      <th>3825</th>\n      <td>Highlights: The Trump presidency on April 13 at 9:30 P.M. EDT/0130 GMT on Friday</td>\n      <td>0.162500</td>\n      <td>1</td>\n      <td>0</td>\n    </tr>\n    <tr>\n      <th>3909</th>\n      <td>Nigerian oil union PENGASSAN suspends strike: union president</td>\n      <td>0.163934</td>\n      <td>1</td>\n      <td>0</td>\n    </tr>\n    <tr>\n      <th>3957</th>\n      <td>UAE denies Yemen's Houthis have fired missile toward UAE</td>\n      <td>0.142857</td>\n      <td>1</td>\n      <td>0</td>\n    </tr>\n    <tr>\n      <th>4033</th>\n      <td>Eighty percent of Puerto Rico power lines down: PREPA</td>\n      <td>0.150943</td>\n      <td>1</td>\n      <td>0</td>\n    </tr>\n    <tr>\n      <th>4179</th>\n      <td>The Adoration Of Kim Jong Un</td>\n      <td>0.214286</td>\n      <td>1</td>\n      <td>0</td>\n    </tr>\n    <tr>\n      <th>4198</th>\n      <td>House Intelligence postpones closed session with FBI, NSA</td>\n      <td>0.140351</td>\n      <td>1</td>\n      <td>0</td>\n    </tr>\n    <tr>\n      <th>4273</th>\n      <td>Factbox: Trump on Twitter (November 29) - Matt Lauer, North Korea, Tax Cuts</td>\n      <td>0.133333</td>\n      <td>1</td>\n      <td>0</td>\n    </tr>\n    <tr>\n      <th>4811</th>\n      <td>Biden says 'no desire' to be on Supreme Court: MSNBC</td>\n      <td>0.153846</td>\n      <td>1</td>\n      <td>0</td>\n    </tr>\n    <tr>\n      <th>4993</th>\n      <td>Top House Intel panel Democrat rebukes chairman over subpoenas: MSNBC</td>\n      <td>0.130435</td>\n      <td>1</td>\n      <td>0</td>\n    </tr>\n    <tr>\n      <th>5005</th>\n      <td>Trump endorses Romney niece Ronna Romney McDaniel for RNC chair</td>\n      <td>0.142857</td>\n      <td>1</td>\n      <td>0</td>\n    </tr>\n    <tr>\n      <th>5266</th>\n      <td>British PM May meets Iraqi PM Abadi in Baghdad</td>\n      <td>0.195652</td>\n      <td>1</td>\n      <td>0</td>\n    </tr>\n    <tr>\n      <th>5327</th>\n      <td>U.S. Tillerson assures Washington's only goal in Syria is fighting IS: TASS cites Lavrov</td>\n      <td>0.136364</td>\n      <td>1</td>\n      <td>0</td>\n    </tr>\n    <tr>\n      <th>5419</th>\n      <td>Former New York City Mayor Bloomberg to endorse Hillary Clinton: NYT</td>\n      <td>0.161765</td>\n      <td>1</td>\n      <td>0</td>\n    </tr>\n    <tr>\n      <th>5438</th>\n      <td>Text of Nobel Peace Prize award to anti-nuclear campaign ICAN</td>\n      <td>0.131148</td>\n      <td>1</td>\n      <td>0</td>\n    </tr>\n    <tr>\n      <th>5483</th>\n      <td>EU's Schulz wouldn't favor a Trump White House</td>\n      <td>0.130435</td>\n      <td>1</td>\n      <td>0</td>\n    </tr>\n    <tr>\n      <th>5807</th>\n      <td>Former U.S. President Jimmy Carter says would travel to North Korea: NYT</td>\n      <td>0.152778</td>\n      <td>1</td>\n      <td>0</td>\n    </tr>\n    <tr>\n      <th>5824</th>\n      <td>Trump questions U.S. financial backing for NATO</td>\n      <td>0.148936</td>\n      <td>1</td>\n      <td>0</td>\n    </tr>\n    <tr>\n      <th>5914</th>\n      <td>Russian envoy to U.S. to inspect San Francisco consulate: RIA</td>\n      <td>0.131148</td>\n      <td>1</td>\n      <td>0</td>\n    </tr>\n    <tr>\n      <th>5947</th>\n      <td>Trump on Twitter (August 10): Mitch McConnell</td>\n      <td>0.133333</td>\n      <td>1</td>\n      <td>0</td>\n    </tr>\n    <tr>\n      <th>6006</th>\n      <td>Trump on Twitter (Dec 26) - Hillary Clinton, Tax Cut Bill</td>\n      <td>0.140351</td>\n      <td>1</td>\n      <td>0</td>\n    </tr>\n    <tr>\n      <th>6579</th>\n      <td>HP CEO Whitman compares Trump to Hitler, Mussolini</td>\n      <td>0.180000</td>\n      <td>1</td>\n      <td>0</td>\n    </tr>\n    <tr>\n      <th>6596</th>\n      <td>INTERNET: Living with the Great Firewall of China</td>\n      <td>0.244898</td>\n      <td>1</td>\n      <td>0</td>\n    </tr>\n  </tbody>\n</table>\n</div>"
     },
     "execution_count": 28,
     "metadata": {},
     "output_type": "execute_result"
    }
   ],
   "source": [
    "df_true_as_fake.head(50)"
   ]
  },
  {
   "cell_type": "markdown",
   "metadata": {},
   "source": [
    "These titles seem to have a lot of capitalized acronyms."
   ]
  },
  {
   "cell_type": "markdown",
   "metadata": {},
   "source": [
    "# Review Correctly Classified Stories"
   ]
  },
  {
   "cell_type": "code",
   "execution_count": 30,
   "metadata": {
    "ExecuteTime": {
     "end_time": "2020-10-07T18:51:38.224591Z",
     "start_time": "2020-10-07T18:51:38.217203Z"
    }
   },
   "outputs": [],
   "source": [
    "df_true_as_true = df_with_results[(df_with_results.label == 1) & (df_with_results.label_predicted == 1)]"
   ]
  },
  {
   "cell_type": "code",
   "execution_count": 31,
   "metadata": {
    "ExecuteTime": {
     "end_time": "2020-10-07T18:51:48.262172Z",
     "start_time": "2020-10-07T18:51:48.239645Z"
    },
    "scrolled": true
   },
   "outputs": [
    {
     "data": {
      "text/plain": "                                                                                                 title  \\\n0                                           Magnitude 6.2 quake hits southeast of Oaxaca, Mexico: USGS   \n1                                            Defense chief say he has power to set Afghan troop levels   \n2                                   Democrats seek probe of Trump donation to Florida attorney general   \n3                                   Pennsylvania attorney general resigns following perjury conviction   \n4                                    Trump reaches out to lawmakers on healthcare as another says 'no'   \n13                            Former Hong Kong student leader escapes jail sentence for campus protest   \n14                               In Trump travel ban fight, Justice Kennedy's 2015 opinion looms large   \n16                                         Baltimore primary results decertified, irregularities cited   \n17                                            The Art of the Deal: Why Putin needs one more than Trump   \n18                                   Iran president defends Guards in show of unity anticipating Trump   \n19                                      U.S. pulls out of human rights panel on Trump executive orders   \n22                                Mauritanian blogger who faced death penalty for apostasy to be freed   \n26                                   Biafra separatists, Nigerian army disagree over siege allegations   \n27                              Ireland welcomes home student who spent four years in an Egyptian jail   \n31                                      Singaporeans protest against uncontested presidential election   \n32                                        Syrian presidency vows to step up campaign against militants   \n33                                              Clinton secures Mark Cuban's endorsement in Pittsburgh   \n36                            Trump's Treasury nominee Mnuchin pledges to divest assets worth millions   \n37                                          French businessman pledges to pay Austrian face veil fines   \n38                                  Obama plan to ease new U.S. visa limits faces skeptics in Congress   \n40                                    Iraqi PM calls on Kurds to cancel independence referendum result   \n42                                          House and Senate reach deal on U.S. tax legislation: Hatch   \n44                                       Tension grips Nigerian city as separatist leader goes missing   \n45  Police examine three envelopes at Scottish parliament, one thought to contain white powder: source   \n47                            China detains 10 North Koreans amid possible defector crackdown: sources   \n48                            Trump says Iran complying with nuclear deal but remains dangerous threat   \n51                                                     Former Salvadoran president Calderon dies at 69   \n54                                 Obama to sign customs, trade enforcement bill into law: White House   \n56                                    Trump's son-in-law held talks to set up Trump TV network: source   \n58                                                    In Florida, Donald Trump has a model for success   \n63                              Trump attends 'Villains and Heroes' costume party dressed as...himself   \n64                                Michigan lawmakers push forward $500 mln package for Detroit schools   \n65                                     Starr steps down as Baylor chancellor after sex assault scandal   \n66                                   Nigerian army says it repels suspected Boko Haram militant attack   \n67                              Afghan president 'grateful' for Trump's commitment to fighting Taliban   \n71                                                        Suspect in shooting of Idaho pastor arrested   \n75                               Turkey's Erdogan says businessmen moving assets abroad are 'traitors'   \n76                       Wife of ousted PM Sharif wins by-election in test of support for ruling party   \n78                                     U.S. presidential election drives record ratings for cable news   \n79                                          Ukraine passes long-delayed health reforms praised by West   \n81                           Trump names assistant Treasury secretary as acting IRS chief: White House   \n82                                       Senate passes measure that permanently repeals 'Cadillac' tax   \n83                             German legal experts say Poland has no right to WW2 reparations: report   \n84                                                  Senate Banking committee approves two SEC nominees   \n88                                      Next round of Syria talks in Geneva set for Nov 28: U.N. envoy   \n89                                  Rohingya say their village is lost to Myanmar's spiraling conflict   \n90                                Witness says injured in stampede at London station: Reuters reporter   \n91                                        Britain will meet its Brexit financial obligations: minister   \n94                               U.S. steps up pressure on Hezbollah, offers reward for two operatives   \n95                                        U.S. directly communicating with North Korea, seeks dialogue   \n\n    norm_caps_in_title  label  label_predicted  \n0             0.120690      1                1  \n1             0.035088      1                1  \n2             0.045455      1                1  \n3             0.015152      1                1  \n4             0.015385      1                1  \n13            0.041667      1                1  \n14            0.057971      1                1  \n16            0.016949      1                1  \n17            0.107143      1                1  \n18            0.046154      1                1  \n19            0.048387      1                1  \n22            0.014706      1                1  \n26            0.030769      1                1  \n27            0.028571      1                1  \n31            0.016129      1                1  \n32            0.016667      1                1  \n33            0.074074      1                1  \n36            0.041667      1                1  \n37            0.034483      1                1  \n38            0.060606      1                1  \n40            0.062500      1                1  \n42            0.086207      1                1  \n44            0.032787      1                1  \n45            0.020408      1                1  \n47            0.041667      1                1  \n48            0.027778      1                1  \n51            0.063830      1                1  \n54            0.044776      1                1  \n56            0.062500      1                1  \n58            0.083333      1                1  \n63            0.042857      1                1  \n64            0.029412      1                1  \n65            0.031746      1                1  \n66            0.046154      1                1  \n67            0.042857      1                1  \n71            0.045455      1                1  \n75            0.028986      1                1  \n76            0.051948      1                1  \n78            0.031746      1                1  \n79            0.034483      1                1  \n81            0.095890      1                1  \n82            0.032787      1                1  \n83            0.056338      1                1  \n84            0.100000      1                1  \n88            0.096774      1                1  \n89            0.030303      1                1  \n90            0.044118      1                1  \n91            0.033333      1                1  \n94            0.043478      1                1  \n95            0.066667      1                1  ",
      "text/html": "<div>\n<style scoped>\n    .dataframe tbody tr th:only-of-type {\n        vertical-align: middle;\n    }\n\n    .dataframe tbody tr th {\n        vertical-align: top;\n    }\n\n    .dataframe thead th {\n        text-align: right;\n    }\n</style>\n<table border=\"1\" class=\"dataframe\">\n  <thead>\n    <tr style=\"text-align: right;\">\n      <th></th>\n      <th>title</th>\n      <th>norm_caps_in_title</th>\n      <th>label</th>\n      <th>label_predicted</th>\n    </tr>\n  </thead>\n  <tbody>\n    <tr>\n      <th>0</th>\n      <td>Magnitude 6.2 quake hits southeast of Oaxaca, Mexico: USGS</td>\n      <td>0.120690</td>\n      <td>1</td>\n      <td>1</td>\n    </tr>\n    <tr>\n      <th>1</th>\n      <td>Defense chief say he has power to set Afghan troop levels</td>\n      <td>0.035088</td>\n      <td>1</td>\n      <td>1</td>\n    </tr>\n    <tr>\n      <th>2</th>\n      <td>Democrats seek probe of Trump donation to Florida attorney general</td>\n      <td>0.045455</td>\n      <td>1</td>\n      <td>1</td>\n    </tr>\n    <tr>\n      <th>3</th>\n      <td>Pennsylvania attorney general resigns following perjury conviction</td>\n      <td>0.015152</td>\n      <td>1</td>\n      <td>1</td>\n    </tr>\n    <tr>\n      <th>4</th>\n      <td>Trump reaches out to lawmakers on healthcare as another says 'no'</td>\n      <td>0.015385</td>\n      <td>1</td>\n      <td>1</td>\n    </tr>\n    <tr>\n      <th>13</th>\n      <td>Former Hong Kong student leader escapes jail sentence for campus protest</td>\n      <td>0.041667</td>\n      <td>1</td>\n      <td>1</td>\n    </tr>\n    <tr>\n      <th>14</th>\n      <td>In Trump travel ban fight, Justice Kennedy's 2015 opinion looms large</td>\n      <td>0.057971</td>\n      <td>1</td>\n      <td>1</td>\n    </tr>\n    <tr>\n      <th>16</th>\n      <td>Baltimore primary results decertified, irregularities cited</td>\n      <td>0.016949</td>\n      <td>1</td>\n      <td>1</td>\n    </tr>\n    <tr>\n      <th>17</th>\n      <td>The Art of the Deal: Why Putin needs one more than Trump</td>\n      <td>0.107143</td>\n      <td>1</td>\n      <td>1</td>\n    </tr>\n    <tr>\n      <th>18</th>\n      <td>Iran president defends Guards in show of unity anticipating Trump</td>\n      <td>0.046154</td>\n      <td>1</td>\n      <td>1</td>\n    </tr>\n    <tr>\n      <th>19</th>\n      <td>U.S. pulls out of human rights panel on Trump executive orders</td>\n      <td>0.048387</td>\n      <td>1</td>\n      <td>1</td>\n    </tr>\n    <tr>\n      <th>22</th>\n      <td>Mauritanian blogger who faced death penalty for apostasy to be freed</td>\n      <td>0.014706</td>\n      <td>1</td>\n      <td>1</td>\n    </tr>\n    <tr>\n      <th>26</th>\n      <td>Biafra separatists, Nigerian army disagree over siege allegations</td>\n      <td>0.030769</td>\n      <td>1</td>\n      <td>1</td>\n    </tr>\n    <tr>\n      <th>27</th>\n      <td>Ireland welcomes home student who spent four years in an Egyptian jail</td>\n      <td>0.028571</td>\n      <td>1</td>\n      <td>1</td>\n    </tr>\n    <tr>\n      <th>31</th>\n      <td>Singaporeans protest against uncontested presidential election</td>\n      <td>0.016129</td>\n      <td>1</td>\n      <td>1</td>\n    </tr>\n    <tr>\n      <th>32</th>\n      <td>Syrian presidency vows to step up campaign against militants</td>\n      <td>0.016667</td>\n      <td>1</td>\n      <td>1</td>\n    </tr>\n    <tr>\n      <th>33</th>\n      <td>Clinton secures Mark Cuban's endorsement in Pittsburgh</td>\n      <td>0.074074</td>\n      <td>1</td>\n      <td>1</td>\n    </tr>\n    <tr>\n      <th>36</th>\n      <td>Trump's Treasury nominee Mnuchin pledges to divest assets worth millions</td>\n      <td>0.041667</td>\n      <td>1</td>\n      <td>1</td>\n    </tr>\n    <tr>\n      <th>37</th>\n      <td>French businessman pledges to pay Austrian face veil fines</td>\n      <td>0.034483</td>\n      <td>1</td>\n      <td>1</td>\n    </tr>\n    <tr>\n      <th>38</th>\n      <td>Obama plan to ease new U.S. visa limits faces skeptics in Congress</td>\n      <td>0.060606</td>\n      <td>1</td>\n      <td>1</td>\n    </tr>\n    <tr>\n      <th>40</th>\n      <td>Iraqi PM calls on Kurds to cancel independence referendum result</td>\n      <td>0.062500</td>\n      <td>1</td>\n      <td>1</td>\n    </tr>\n    <tr>\n      <th>42</th>\n      <td>House and Senate reach deal on U.S. tax legislation: Hatch</td>\n      <td>0.086207</td>\n      <td>1</td>\n      <td>1</td>\n    </tr>\n    <tr>\n      <th>44</th>\n      <td>Tension grips Nigerian city as separatist leader goes missing</td>\n      <td>0.032787</td>\n      <td>1</td>\n      <td>1</td>\n    </tr>\n    <tr>\n      <th>45</th>\n      <td>Police examine three envelopes at Scottish parliament, one thought to contain white powder: source</td>\n      <td>0.020408</td>\n      <td>1</td>\n      <td>1</td>\n    </tr>\n    <tr>\n      <th>47</th>\n      <td>China detains 10 North Koreans amid possible defector crackdown: sources</td>\n      <td>0.041667</td>\n      <td>1</td>\n      <td>1</td>\n    </tr>\n    <tr>\n      <th>48</th>\n      <td>Trump says Iran complying with nuclear deal but remains dangerous threat</td>\n      <td>0.027778</td>\n      <td>1</td>\n      <td>1</td>\n    </tr>\n    <tr>\n      <th>51</th>\n      <td>Former Salvadoran president Calderon dies at 69</td>\n      <td>0.063830</td>\n      <td>1</td>\n      <td>1</td>\n    </tr>\n    <tr>\n      <th>54</th>\n      <td>Obama to sign customs, trade enforcement bill into law: White House</td>\n      <td>0.044776</td>\n      <td>1</td>\n      <td>1</td>\n    </tr>\n    <tr>\n      <th>56</th>\n      <td>Trump's son-in-law held talks to set up Trump TV network: source</td>\n      <td>0.062500</td>\n      <td>1</td>\n      <td>1</td>\n    </tr>\n    <tr>\n      <th>58</th>\n      <td>In Florida, Donald Trump has a model for success</td>\n      <td>0.083333</td>\n      <td>1</td>\n      <td>1</td>\n    </tr>\n    <tr>\n      <th>63</th>\n      <td>Trump attends 'Villains and Heroes' costume party dressed as...himself</td>\n      <td>0.042857</td>\n      <td>1</td>\n      <td>1</td>\n    </tr>\n    <tr>\n      <th>64</th>\n      <td>Michigan lawmakers push forward $500 mln package for Detroit schools</td>\n      <td>0.029412</td>\n      <td>1</td>\n      <td>1</td>\n    </tr>\n    <tr>\n      <th>65</th>\n      <td>Starr steps down as Baylor chancellor after sex assault scandal</td>\n      <td>0.031746</td>\n      <td>1</td>\n      <td>1</td>\n    </tr>\n    <tr>\n      <th>66</th>\n      <td>Nigerian army says it repels suspected Boko Haram militant attack</td>\n      <td>0.046154</td>\n      <td>1</td>\n      <td>1</td>\n    </tr>\n    <tr>\n      <th>67</th>\n      <td>Afghan president 'grateful' for Trump's commitment to fighting Taliban</td>\n      <td>0.042857</td>\n      <td>1</td>\n      <td>1</td>\n    </tr>\n    <tr>\n      <th>71</th>\n      <td>Suspect in shooting of Idaho pastor arrested</td>\n      <td>0.045455</td>\n      <td>1</td>\n      <td>1</td>\n    </tr>\n    <tr>\n      <th>75</th>\n      <td>Turkey's Erdogan says businessmen moving assets abroad are 'traitors'</td>\n      <td>0.028986</td>\n      <td>1</td>\n      <td>1</td>\n    </tr>\n    <tr>\n      <th>76</th>\n      <td>Wife of ousted PM Sharif wins by-election in test of support for ruling party</td>\n      <td>0.051948</td>\n      <td>1</td>\n      <td>1</td>\n    </tr>\n    <tr>\n      <th>78</th>\n      <td>U.S. presidential election drives record ratings for cable news</td>\n      <td>0.031746</td>\n      <td>1</td>\n      <td>1</td>\n    </tr>\n    <tr>\n      <th>79</th>\n      <td>Ukraine passes long-delayed health reforms praised by West</td>\n      <td>0.034483</td>\n      <td>1</td>\n      <td>1</td>\n    </tr>\n    <tr>\n      <th>81</th>\n      <td>Trump names assistant Treasury secretary as acting IRS chief: White House</td>\n      <td>0.095890</td>\n      <td>1</td>\n      <td>1</td>\n    </tr>\n    <tr>\n      <th>82</th>\n      <td>Senate passes measure that permanently repeals 'Cadillac' tax</td>\n      <td>0.032787</td>\n      <td>1</td>\n      <td>1</td>\n    </tr>\n    <tr>\n      <th>83</th>\n      <td>German legal experts say Poland has no right to WW2 reparations: report</td>\n      <td>0.056338</td>\n      <td>1</td>\n      <td>1</td>\n    </tr>\n    <tr>\n      <th>84</th>\n      <td>Senate Banking committee approves two SEC nominees</td>\n      <td>0.100000</td>\n      <td>1</td>\n      <td>1</td>\n    </tr>\n    <tr>\n      <th>88</th>\n      <td>Next round of Syria talks in Geneva set for Nov 28: U.N. envoy</td>\n      <td>0.096774</td>\n      <td>1</td>\n      <td>1</td>\n    </tr>\n    <tr>\n      <th>89</th>\n      <td>Rohingya say their village is lost to Myanmar's spiraling conflict</td>\n      <td>0.030303</td>\n      <td>1</td>\n      <td>1</td>\n    </tr>\n    <tr>\n      <th>90</th>\n      <td>Witness says injured in stampede at London station: Reuters reporter</td>\n      <td>0.044118</td>\n      <td>1</td>\n      <td>1</td>\n    </tr>\n    <tr>\n      <th>91</th>\n      <td>Britain will meet its Brexit financial obligations: minister</td>\n      <td>0.033333</td>\n      <td>1</td>\n      <td>1</td>\n    </tr>\n    <tr>\n      <th>94</th>\n      <td>U.S. steps up pressure on Hezbollah, offers reward for two operatives</td>\n      <td>0.043478</td>\n      <td>1</td>\n      <td>1</td>\n    </tr>\n    <tr>\n      <th>95</th>\n      <td>U.S. directly communicating with North Korea, seeks dialogue</td>\n      <td>0.066667</td>\n      <td>1</td>\n      <td>1</td>\n    </tr>\n  </tbody>\n</table>\n</div>"
     },
     "execution_count": 31,
     "metadata": {},
     "output_type": "execute_result"
    }
   ],
   "source": [
    "df_true_as_true.head(50)"
   ]
  },
  {
   "cell_type": "code",
   "execution_count": 32,
   "metadata": {
    "ExecuteTime": {
     "end_time": "2020-10-07T18:52:19.556323Z",
     "start_time": "2020-10-07T18:52:19.548901Z"
    }
   },
   "outputs": [],
   "source": [
    "df_fake_as_fake = df_with_results[(df_with_results.label == 0) & (df_with_results.label_predicted == 0)]"
   ]
  },
  {
   "cell_type": "code",
   "execution_count": 33,
   "metadata": {
    "ExecuteTime": {
     "end_time": "2020-10-07T18:52:28.774879Z",
     "start_time": "2020-10-07T18:52:28.751958Z"
    },
    "scrolled": true
   },
   "outputs": [
    {
     "data": {
      "text/plain": "                                                                                                                                                                                    title  \\\n5                                                                                                Trump Just Visited His Home State, And New Yorkers Told Him To Get F*cked (IMAGES/VIDEO)   \n7                                                                                                            HUGE Spending Agreement Reached: GOP Caves On Sending 10,000 Syrian Refugees   \n8                                                                                                                  OBAMA’S REVEALING LETTER TO BROTHER TELLS WHY BARACK GOT INTO POLITICS   \n9                                                                                                              BIZARRE WARNING FROM OBAMA Campaign Manager Screams Shadow Government Coup   \n10                                                                                                                                          McCain CALLS OUT Trump: Show Us The Evidence!   \n12                                                                                                                       Ted Cruz Holds Hearing On Why Obama Won’t Use The Words He Likes   \n15                                                                                                   BOMBSHELL: Obama Ensured Uranium Exportation…Ignored National Security Fears [Video]   \n20                                                                                                          Watch Michelle Obama And Conan O’Brien Entertain U.S. Troops In Qatar (VIDEO)   \n21                                                                                               The Stupid Is Spreading: Now Darrell Issa Doesn’t Think President Obama Is Black (VIDEO)   \n23                                                                                                              White Men Threw Eggs, Shouted Racial Slurs At Black Woman Waiting For Bus   \n24                                                                                                                    IDENTITY OF HILLARY’S MYSTERY “HANDLER” Is Finally Revealed [VIDEO]   \n25                                                                                                         Donald Trump Throws MASSIVE Hissy Fit Over Hillary’s Speech And DNC Convention   \n28                                                                                                                                  TRUMP: “Let Obamacare fail… I’m not going to own it.”   \n34   MUSLIM PREACHER CHARGED AFTER RANTING, SPITTING “Alluha Akbar” In Police Officers Face…Screamed At Woman On Streets For Wearing “Tight Jeans”…Muslim Bystanders Cheer Him On [VIDEO]   \n35                                                                                                      Wikipedia BRUTALLY Trashes Paul Ryan, Adds Him To Spineless Animals Page (IMAGES)   \n39                                                                               NON-PROFIT VIOLENT Berkeley BAMN Leader Surprised When Tables Are Turned On Him During Interview [VIDEO]   \n41                                                                                BOOM! This Is How President Reagan Handled Protesters: “Negotiate? What is there to negotiate?” [Video]   \n43                                                              #BoycottDisney: DISNEY PUSHES GAY AGENDA On Toddlers, Young Kids…Makes Stingray In New “FINDING DORY” Movie A TRANSGENDER   \n46                                                                  Insane! Huge Financial Disaster On The Horizon With Obama’s Housing Bubble And Easy Lending In The Name Of “Fairness”   \n49                                                                                                          OBAMA COZIES UP TO ANOTHER COMMUNIST LEADER TO DISCUSS HUMAN RIGHTS… AND TPP?   \n50                                                                                                     Watch Obama Call Donald Trump Out On His Bullsh*t Shenanigans Back In 2005 (VIDEO)   \n52                                                                                                                          Anthony Weiner’s Alleged Teenaged Victim Is P*ssed – At Comey   \n53                                                                                                                       40 Million Bad*ss Birders Just Declared War On Oregon Terrorists   \n55                                                                                                 Ivanka Trump Just Admitted That She LIKES Her Dad Calling Her A ‘Piece Of A**’ (IMAGE)   \n57                                                                                       REPORT: Bannon Routinely Using Anti-Semitic Slur Towards Jared Kushner, WH Turning Toxic Quickly   \n59                                                                                                              John Kasich Was Just Embarrassed By Republican Lawmakers In His Own State   \n60                                                                                            WATCH: Jimmy Kimmel Demonstrates That Trump Could Support Child Rape And Not Lose Any Votes   \n62                      WATCH: JOY BEHAR of “THE VIEW” Calls Bill Clinton Rape and Sexual Assault Victims “Tramps” That “Slept With” Hillary’s Husband…Whoopi Says Hillary’s The “Victim”   \n68                                       DOUBLE STANDARD? WHITE MLB Player Suspended For Criticizing #BlackLivesMatter…NFL IGNORES Black Player’s Instagram Post Of Cop’s Neck Being Slit   \n69                                                   BLOGGER Comes Clean About Hannity Sexual Harassment Claim…Hannity’s Former Producer Publicly Calls Her Out On LIE About Why She Quit   \n70                                                                                                                 Elizabeth Warren Attacked As A Phony Liberal For Not Endorsing Sanders   \n72                                                                                              HYSTERICAL! PRO-COP Billboard Causes Controversy And Offends Liberals…But You’ll Love It!   \n73                                                                                                    SNOWFLAKE GOES BERSERK ON NYPD During the Rent-a-Mob Protest at Trump Tower [Video]   \n74                                                                                   We Found The ONE Beautiful Thing About Trump’s Inauguration, And It’s Going To DESTROY Him (DETAILS)   \n77                                                                                                                NATIONAL ARCHIVES MISSING Massive Data From Clinton White House Records   \n80                                           UNREAL! WATCH JOE BIDEN Point Out The Guy Who “Follows” Him Around With The NUCLEAR CODES Right After Saying TRUMP Couldn’t Handle The Codes   \n85                                                                                      Check Out This Racist ‘What Do You Hate Most About Obama’ Poll Conservatives Are Sharing (IMAGES)   \n86                                                                 EXPERT CLAIMS N. KOREA’S SECOND MISSILE Test Demonstrates They Now Have Ability To Hit 3 Major Cities On U.S. Mainland   \n87                                                                                       GREAT! See What Trump Did When He Was Told There Was No Time To Sing The National Anthem [Video]   \n92     CONFIRMED BOMBSHELL: SETH RICH Sent Over 44,000 DNC Emails To Journalist, Best Friend Of Wikileaks Founder…DC Police Officer Claims They Were Told To “Stand Down” On Case [VIDEO]   \n93                                                                                                                Women Will Get More Elected Representation If Clinton Becomes President   \n98                                                                        FURIOUS FBI Agents Speak Out On Clinton Email Case: “We didn’t search their house. We always search the house.”   \n104                                                                                                             BEGGIN’ MEGYN KELLY’S New Book Ripped To Shreads In Amazon Reviews…Karma!   \n106                                                                                                          Dwyane Wade Has Some Choice Words For Trump After Tweet About Cousin (VIDEO)   \n109                                                                             LOL! FAKE INDIAN Elizabeth Warren Returns DNA Kit REAL INDIAN GOP Senate Challenger Sent As Birthday Gift   \n111                                                                                                    DNC Chair Asks Democrat Members Of Congress To “Bring A Muslim” To State Of Union…   \n113                                                                             #HAMILTON Star Makes Jokes On Twitter About “Black Dudes” Taking Sexual Advantage of Drunk “White Chicks”   \n114                                                                                                                  Court Decides Scott Walker’s ‘Right-To-Work’ Law Is Unconstitutional   \n115                                                                                       AWESOME! DONALD TRUMP Slams Hillary Hecklers At Detroit Speech With The Best Line Ever! [Video]   \n116                                                                                              WOW: Duck Dynasty Star Phil Robertson Offers Up The Worst Proof Ever That Jesus Was Real   \n\n     norm_caps_in_title  label  label_predicted  \n5              0.280899      0                0  \n7              0.197368      0                0  \n8              0.842857      0                0  \n9              0.391892      0                0  \n10             0.326087      0                0  \n12             0.200000      0                0  \n15             0.214286      0                0  \n20             0.230769      0                0  \n21             0.202247      0                0  \n23             0.175676      0                0  \n24             0.597015      0                0  \n25             0.253165      0                0  \n28             0.150943      0                0  \n34             0.366667      0                0  \n35             0.292683      0                0  \n39             0.346154      0                0  \n41             0.135922      0                0  \n43             0.454545      0                0  \n46             0.162393      0                0  \n49             0.818182      0                0  \n50             0.204819      0                0  \n52             0.145161      0                0  \n53             0.138462      0                0  \n55             0.275862      0                0  \n57             0.206186      0                0  \n59             0.162162      0                0  \n60             0.206522      0                0  \n62             0.236025      0                0  \n68             0.333333      0                0  \n69             0.219697      0                0  \n70             0.154930      0                0  \n72             0.292135      0                0  \n73             0.397590      0                0  \n74             0.297030      0                0  \n77             0.422535      0                0  \n80             0.378571      0                0  \n85             0.214286      0                0  \n86             0.389831      0                0  \n87             0.239583      0                0  \n92             0.320225      0                0  \n93             0.138889      0                0  \n98             0.171171      0                0  \n104            0.356164      0                0  \n106            0.220779      0                0  \n109            0.371429      0                0  \n111            0.207317      0                0  \n113            0.209524      0                0  \n114            0.144928      0                0  \n115            0.315789      0                0  \n116            0.202247      0                0  ",
      "text/html": "<div>\n<style scoped>\n    .dataframe tbody tr th:only-of-type {\n        vertical-align: middle;\n    }\n\n    .dataframe tbody tr th {\n        vertical-align: top;\n    }\n\n    .dataframe thead th {\n        text-align: right;\n    }\n</style>\n<table border=\"1\" class=\"dataframe\">\n  <thead>\n    <tr style=\"text-align: right;\">\n      <th></th>\n      <th>title</th>\n      <th>norm_caps_in_title</th>\n      <th>label</th>\n      <th>label_predicted</th>\n    </tr>\n  </thead>\n  <tbody>\n    <tr>\n      <th>5</th>\n      <td>Trump Just Visited His Home State, And New Yorkers Told Him To Get F*cked (IMAGES/VIDEO)</td>\n      <td>0.280899</td>\n      <td>0</td>\n      <td>0</td>\n    </tr>\n    <tr>\n      <th>7</th>\n      <td>HUGE Spending Agreement Reached: GOP Caves On Sending 10,000 Syrian Refugees</td>\n      <td>0.197368</td>\n      <td>0</td>\n      <td>0</td>\n    </tr>\n    <tr>\n      <th>8</th>\n      <td>OBAMA’S REVEALING LETTER TO BROTHER TELLS WHY BARACK GOT INTO POLITICS</td>\n      <td>0.842857</td>\n      <td>0</td>\n      <td>0</td>\n    </tr>\n    <tr>\n      <th>9</th>\n      <td>BIZARRE WARNING FROM OBAMA Campaign Manager Screams Shadow Government Coup</td>\n      <td>0.391892</td>\n      <td>0</td>\n      <td>0</td>\n    </tr>\n    <tr>\n      <th>10</th>\n      <td>McCain CALLS OUT Trump: Show Us The Evidence!</td>\n      <td>0.326087</td>\n      <td>0</td>\n      <td>0</td>\n    </tr>\n    <tr>\n      <th>12</th>\n      <td>Ted Cruz Holds Hearing On Why Obama Won’t Use The Words He Likes</td>\n      <td>0.200000</td>\n      <td>0</td>\n      <td>0</td>\n    </tr>\n    <tr>\n      <th>15</th>\n      <td>BOMBSHELL: Obama Ensured Uranium Exportation…Ignored National Security Fears [Video]</td>\n      <td>0.214286</td>\n      <td>0</td>\n      <td>0</td>\n    </tr>\n    <tr>\n      <th>20</th>\n      <td>Watch Michelle Obama And Conan O’Brien Entertain U.S. Troops In Qatar (VIDEO)</td>\n      <td>0.230769</td>\n      <td>0</td>\n      <td>0</td>\n    </tr>\n    <tr>\n      <th>21</th>\n      <td>The Stupid Is Spreading: Now Darrell Issa Doesn’t Think President Obama Is Black (VIDEO)</td>\n      <td>0.202247</td>\n      <td>0</td>\n      <td>0</td>\n    </tr>\n    <tr>\n      <th>23</th>\n      <td>White Men Threw Eggs, Shouted Racial Slurs At Black Woman Waiting For Bus</td>\n      <td>0.175676</td>\n      <td>0</td>\n      <td>0</td>\n    </tr>\n    <tr>\n      <th>24</th>\n      <td>IDENTITY OF HILLARY’S MYSTERY “HANDLER” Is Finally Revealed [VIDEO]</td>\n      <td>0.597015</td>\n      <td>0</td>\n      <td>0</td>\n    </tr>\n    <tr>\n      <th>25</th>\n      <td>Donald Trump Throws MASSIVE Hissy Fit Over Hillary’s Speech And DNC Convention</td>\n      <td>0.253165</td>\n      <td>0</td>\n      <td>0</td>\n    </tr>\n    <tr>\n      <th>28</th>\n      <td>TRUMP: “Let Obamacare fail… I’m not going to own it.”</td>\n      <td>0.150943</td>\n      <td>0</td>\n      <td>0</td>\n    </tr>\n    <tr>\n      <th>34</th>\n      <td>MUSLIM PREACHER CHARGED AFTER RANTING, SPITTING “Alluha Akbar” In Police Officers Face…Screamed At Woman On Streets For Wearing “Tight Jeans”…Muslim Bystanders Cheer Him On [VIDEO]</td>\n      <td>0.366667</td>\n      <td>0</td>\n      <td>0</td>\n    </tr>\n    <tr>\n      <th>35</th>\n      <td>Wikipedia BRUTALLY Trashes Paul Ryan, Adds Him To Spineless Animals Page (IMAGES)</td>\n      <td>0.292683</td>\n      <td>0</td>\n      <td>0</td>\n    </tr>\n    <tr>\n      <th>39</th>\n      <td>NON-PROFIT VIOLENT Berkeley BAMN Leader Surprised When Tables Are Turned On Him During Interview [VIDEO]</td>\n      <td>0.346154</td>\n      <td>0</td>\n      <td>0</td>\n    </tr>\n    <tr>\n      <th>41</th>\n      <td>BOOM! This Is How President Reagan Handled Protesters: “Negotiate? What is there to negotiate?” [Video]</td>\n      <td>0.135922</td>\n      <td>0</td>\n      <td>0</td>\n    </tr>\n    <tr>\n      <th>43</th>\n      <td>#BoycottDisney: DISNEY PUSHES GAY AGENDA On Toddlers, Young Kids…Makes Stingray In New “FINDING DORY” Movie A TRANSGENDER</td>\n      <td>0.454545</td>\n      <td>0</td>\n      <td>0</td>\n    </tr>\n    <tr>\n      <th>46</th>\n      <td>Insane! Huge Financial Disaster On The Horizon With Obama’s Housing Bubble And Easy Lending In The Name Of “Fairness”</td>\n      <td>0.162393</td>\n      <td>0</td>\n      <td>0</td>\n    </tr>\n    <tr>\n      <th>49</th>\n      <td>OBAMA COZIES UP TO ANOTHER COMMUNIST LEADER TO DISCUSS HUMAN RIGHTS… AND TPP?</td>\n      <td>0.818182</td>\n      <td>0</td>\n      <td>0</td>\n    </tr>\n    <tr>\n      <th>50</th>\n      <td>Watch Obama Call Donald Trump Out On His Bullsh*t Shenanigans Back In 2005 (VIDEO)</td>\n      <td>0.204819</td>\n      <td>0</td>\n      <td>0</td>\n    </tr>\n    <tr>\n      <th>52</th>\n      <td>Anthony Weiner’s Alleged Teenaged Victim Is P*ssed – At Comey</td>\n      <td>0.145161</td>\n      <td>0</td>\n      <td>0</td>\n    </tr>\n    <tr>\n      <th>53</th>\n      <td>40 Million Bad*ss Birders Just Declared War On Oregon Terrorists</td>\n      <td>0.138462</td>\n      <td>0</td>\n      <td>0</td>\n    </tr>\n    <tr>\n      <th>55</th>\n      <td>Ivanka Trump Just Admitted That She LIKES Her Dad Calling Her A ‘Piece Of A**’ (IMAGE)</td>\n      <td>0.275862</td>\n      <td>0</td>\n      <td>0</td>\n    </tr>\n    <tr>\n      <th>57</th>\n      <td>REPORT: Bannon Routinely Using Anti-Semitic Slur Towards Jared Kushner, WH Turning Toxic Quickly</td>\n      <td>0.206186</td>\n      <td>0</td>\n      <td>0</td>\n    </tr>\n    <tr>\n      <th>59</th>\n      <td>John Kasich Was Just Embarrassed By Republican Lawmakers In His Own State</td>\n      <td>0.162162</td>\n      <td>0</td>\n      <td>0</td>\n    </tr>\n    <tr>\n      <th>60</th>\n      <td>WATCH: Jimmy Kimmel Demonstrates That Trump Could Support Child Rape And Not Lose Any Votes</td>\n      <td>0.206522</td>\n      <td>0</td>\n      <td>0</td>\n    </tr>\n    <tr>\n      <th>62</th>\n      <td>WATCH: JOY BEHAR of “THE VIEW” Calls Bill Clinton Rape and Sexual Assault Victims “Tramps” That “Slept With” Hillary’s Husband…Whoopi Says Hillary’s The “Victim”</td>\n      <td>0.236025</td>\n      <td>0</td>\n      <td>0</td>\n    </tr>\n    <tr>\n      <th>68</th>\n      <td>DOUBLE STANDARD? WHITE MLB Player Suspended For Criticizing #BlackLivesMatter…NFL IGNORES Black Player’s Instagram Post Of Cop’s Neck Being Slit</td>\n      <td>0.333333</td>\n      <td>0</td>\n      <td>0</td>\n    </tr>\n    <tr>\n      <th>69</th>\n      <td>BLOGGER Comes Clean About Hannity Sexual Harassment Claim…Hannity’s Former Producer Publicly Calls Her Out On LIE About Why She Quit</td>\n      <td>0.219697</td>\n      <td>0</td>\n      <td>0</td>\n    </tr>\n    <tr>\n      <th>70</th>\n      <td>Elizabeth Warren Attacked As A Phony Liberal For Not Endorsing Sanders</td>\n      <td>0.154930</td>\n      <td>0</td>\n      <td>0</td>\n    </tr>\n    <tr>\n      <th>72</th>\n      <td>HYSTERICAL! PRO-COP Billboard Causes Controversy And Offends Liberals…But You’ll Love It!</td>\n      <td>0.292135</td>\n      <td>0</td>\n      <td>0</td>\n    </tr>\n    <tr>\n      <th>73</th>\n      <td>SNOWFLAKE GOES BERSERK ON NYPD During the Rent-a-Mob Protest at Trump Tower [Video]</td>\n      <td>0.397590</td>\n      <td>0</td>\n      <td>0</td>\n    </tr>\n    <tr>\n      <th>74</th>\n      <td>We Found The ONE Beautiful Thing About Trump’s Inauguration, And It’s Going To DESTROY Him (DETAILS)</td>\n      <td>0.297030</td>\n      <td>0</td>\n      <td>0</td>\n    </tr>\n    <tr>\n      <th>77</th>\n      <td>NATIONAL ARCHIVES MISSING Massive Data From Clinton White House Records</td>\n      <td>0.422535</td>\n      <td>0</td>\n      <td>0</td>\n    </tr>\n    <tr>\n      <th>80</th>\n      <td>UNREAL! WATCH JOE BIDEN Point Out The Guy Who “Follows” Him Around With The NUCLEAR CODES Right After Saying TRUMP Couldn’t Handle The Codes</td>\n      <td>0.378571</td>\n      <td>0</td>\n      <td>0</td>\n    </tr>\n    <tr>\n      <th>85</th>\n      <td>Check Out This Racist ‘What Do You Hate Most About Obama’ Poll Conservatives Are Sharing (IMAGES)</td>\n      <td>0.214286</td>\n      <td>0</td>\n      <td>0</td>\n    </tr>\n    <tr>\n      <th>86</th>\n      <td>EXPERT CLAIMS N. KOREA’S SECOND MISSILE Test Demonstrates They Now Have Ability To Hit 3 Major Cities On U.S. Mainland</td>\n      <td>0.389831</td>\n      <td>0</td>\n      <td>0</td>\n    </tr>\n    <tr>\n      <th>87</th>\n      <td>GREAT! See What Trump Did When He Was Told There Was No Time To Sing The National Anthem [Video]</td>\n      <td>0.239583</td>\n      <td>0</td>\n      <td>0</td>\n    </tr>\n    <tr>\n      <th>92</th>\n      <td>CONFIRMED BOMBSHELL: SETH RICH Sent Over 44,000 DNC Emails To Journalist, Best Friend Of Wikileaks Founder…DC Police Officer Claims They Were Told To “Stand Down” On Case [VIDEO]</td>\n      <td>0.320225</td>\n      <td>0</td>\n      <td>0</td>\n    </tr>\n    <tr>\n      <th>93</th>\n      <td>Women Will Get More Elected Representation If Clinton Becomes President</td>\n      <td>0.138889</td>\n      <td>0</td>\n      <td>0</td>\n    </tr>\n    <tr>\n      <th>98</th>\n      <td>FURIOUS FBI Agents Speak Out On Clinton Email Case: “We didn’t search their house. We always search the house.”</td>\n      <td>0.171171</td>\n      <td>0</td>\n      <td>0</td>\n    </tr>\n    <tr>\n      <th>104</th>\n      <td>BEGGIN’ MEGYN KELLY’S New Book Ripped To Shreads In Amazon Reviews…Karma!</td>\n      <td>0.356164</td>\n      <td>0</td>\n      <td>0</td>\n    </tr>\n    <tr>\n      <th>106</th>\n      <td>Dwyane Wade Has Some Choice Words For Trump After Tweet About Cousin (VIDEO)</td>\n      <td>0.220779</td>\n      <td>0</td>\n      <td>0</td>\n    </tr>\n    <tr>\n      <th>109</th>\n      <td>LOL! FAKE INDIAN Elizabeth Warren Returns DNA Kit REAL INDIAN GOP Senate Challenger Sent As Birthday Gift</td>\n      <td>0.371429</td>\n      <td>0</td>\n      <td>0</td>\n    </tr>\n    <tr>\n      <th>111</th>\n      <td>DNC Chair Asks Democrat Members Of Congress To “Bring A Muslim” To State Of Union…</td>\n      <td>0.207317</td>\n      <td>0</td>\n      <td>0</td>\n    </tr>\n    <tr>\n      <th>113</th>\n      <td>#HAMILTON Star Makes Jokes On Twitter About “Black Dudes” Taking Sexual Advantage of Drunk “White Chicks”</td>\n      <td>0.209524</td>\n      <td>0</td>\n      <td>0</td>\n    </tr>\n    <tr>\n      <th>114</th>\n      <td>Court Decides Scott Walker’s ‘Right-To-Work’ Law Is Unconstitutional</td>\n      <td>0.144928</td>\n      <td>0</td>\n      <td>0</td>\n    </tr>\n    <tr>\n      <th>115</th>\n      <td>AWESOME! DONALD TRUMP Slams Hillary Hecklers At Detroit Speech With The Best Line Ever! [Video]</td>\n      <td>0.315789</td>\n      <td>0</td>\n      <td>0</td>\n    </tr>\n    <tr>\n      <th>116</th>\n      <td>WOW: Duck Dynasty Star Phil Robertson Offers Up The Worst Proof Ever That Jesus Was Real</td>\n      <td>0.202247</td>\n      <td>0</td>\n      <td>0</td>\n    </tr>\n  </tbody>\n</table>\n</div>"
     },
     "execution_count": 33,
     "metadata": {},
     "output_type": "execute_result"
    }
   ],
   "source": [
    "df_fake_as_fake.head(50)"
   ]
  },
  {
   "cell_type": "markdown",
   "metadata": {},
   "source": [
    "The Fake news contains lots of all capitals words or most words starting with a capital letter vs. the True news that only capitalize the first letter of the title and proper nouns."
   ]
  },
  {
   "cell_type": "markdown",
   "metadata": {},
   "source": [
    "# Summary"
   ]
  },
  {
   "cell_type": "markdown",
   "metadata": {},
   "source": [
    "Using the percentage of capital letters in the title of the news story provides 98% accuracy and is highly balanced in its miscalculations of about 2% each although the amount of *true* news misclassified as *fake* is slightly lower than vice versa.\n",
    "\n",
    "I think 98% is an acceptable level of accuracy, however I worry that as a test it is easily beaten by the changing tactics of fake news generators, in a similar way that classifying spam is always changing.\n",
    "\n",
    "I also worry that this text overfits to this dataset.  There may be more *fake* news like the 2% that is misclassified in the wild and this test would fail."
   ]
  }
 ],
 "metadata": {
  "kernelspec": {
   "name": "python3",
   "language": "python",
   "display_name": "Python 3"
  },
  "language_info": {
   "codemirror_mode": {
    "name": "ipython",
    "version": 3
   },
   "file_extension": ".py",
   "mimetype": "text/x-python",
   "name": "python",
   "nbconvert_exporter": "python",
   "pygments_lexer": "ipython3",
   "version": "3.6.9"
  },
  "toc": {
   "base_numbering": 1,
   "nav_menu": {},
   "number_sections": true,
   "sideBar": true,
   "skip_h1_title": false,
   "title_cell": "Table of Contents",
   "title_sidebar": "Contents",
   "toc_cell": false,
   "toc_position": {},
   "toc_section_display": true,
   "toc_window_display": false
  },
  "varInspector": {
   "cols": {
    "lenName": 16,
    "lenType": 16,
    "lenVar": 40
   },
   "kernels_config": {
    "python": {
     "delete_cmd_postfix": "",
     "delete_cmd_prefix": "del ",
     "library": "var_list.py",
     "varRefreshCmd": "print(var_dic_list())"
    },
    "r": {
     "delete_cmd_postfix": ") ",
     "delete_cmd_prefix": "rm(",
     "library": "var_list.r",
     "varRefreshCmd": "cat(var_dic_list()) "
    }
   },
   "types_to_exclude": [
    "module",
    "function",
    "builtin_function_or_method",
    "instance",
    "_Feature"
   ],
   "window_display": false
  }
 },
 "nbformat": 4,
 "nbformat_minor": 2
}